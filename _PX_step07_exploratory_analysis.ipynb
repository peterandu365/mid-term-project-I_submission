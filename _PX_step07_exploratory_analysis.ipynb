{
 "cells": [
  {
   "cell_type": "code",
   "execution_count": 1,
   "metadata": {},
   "outputs": [],
   "source": [
    "## Initial Setup"
   ]
  },
  {
   "cell_type": "code",
   "execution_count": 2,
   "metadata": {},
   "outputs": [
    {
     "data": {
      "image/png": "[encoded data removed]",
      "text/plain": [
       "<Figure size 720x144 with 1 Axes>"
      ]
     },
     "metadata": {},
     "output_type": "display_data"
    }
   ],
   "source": [
    "from IPython.core.interactiveshell import InteractiveShell\n",
    "InteractiveShell.ast_node_interactivity = \"all\"\n",
    "import seaborn as sns\n",
    "\n",
    "sns.set_context(\"talk\")\n",
    "\n",
    "\n",
    "import os\n",
    "\n",
    "global DATA_ORIGINAL_PATH, DATA_GENERATED_PATH, IMAGES_GENERATED_PATH, IMAGES_PRESENTATION_PATH\n",
    "\n",
    "DATA_ORIGINAL_PATH = \"00_data_original/\"\n",
    "DATA_GENERATED_PATH = \"01_data_generated/\"\n",
    "IMAGES_GENERATED_PATH = \"02_images_generated/\"\n",
    "IMAGES_PRESENTATION_PATH = \"03_images_for_presentation/\"\n",
    "\n",
    "global DATA_ORIGINAL_FILES, DATA_GENERATED_FILES, IMAGES_GENERATED_FILES, IMAGES_PRESENTATION_FILES\n",
    "\n",
    "DATA_ORIGINAL_FILES = [os.path.join(DATA_ORIGINAL_PATH, f) for f in os.listdir(DATA_ORIGINAL_PATH) if os.path.isfile(os.path.join(DATA_ORIGINAL_PATH, f))]\n",
    "DATA_GENERATED_FILES = [os.path.join(DATA_GENERATED_PATH, f) for f in os.listdir(DATA_GENERATED_PATH) if os.path.isfile(os.path.join(DATA_GENERATED_PATH, f))]\n",
    "IMAGES_GENERATED_FILES = [os.path.join(IMAGES_GENERATED_PATH, f) for f in os.listdir(IMAGES_GENERATED_PATH) if os.path.isfile(os.path.join(IMAGES_GENERATED_PATH, f))]\n",
    "IMAGES_PRESENTATION_FILES = [os.path.join(IMAGES_PRESENTATION_PATH, f) for f in os.listdir(IMAGES_PRESENTATION_PATH) if os.path.isfile(os.path.join(IMAGES_PRESENTATION_PATH, f))]\n",
    "\n",
    "\n",
    "global COLORS\n",
    "import plotly.express as px\n",
    "\n",
    "# Get the original Wd3 discrete color map\n",
    "\n",
    "COLORS = px.colors.qualitative.Plotly\n",
    "# COLORS\n",
    "\n",
    "import matplotlib.pyplot as plt\n",
    "\n",
    "fig, ax = plt.subplots(figsize=(10, 2))\n",
    "\n",
    "for i, color in enumerate(COLORS):\n",
    "    _ = plt.fill_between([i, i + 1], 0, 1, facecolor=color)\n",
    "\n",
    "_ = plt.xlim(0, len(COLORS))\n",
    "_ = plt.ylim(0, 1)\n",
    "\n",
    "_ = plt.xticks([])\n",
    "_ = plt.yticks([])\n",
    "fig.savefig(IMAGES_GENERATED_PATH + 'Plotly_Plotly_COLORS.png', dpi=300, bbox_inches='tight')\n",
    "_ = plt.show()\n"
   ]
  },
  {
   "attachments": {},
   "cell_type": "markdown",
   "metadata": {},
   "source": [
    "### Read data:"
   ]
  },
  {
   "cell_type": "code",
   "execution_count": 3,
   "metadata": {},
   "outputs": [],
   "source": [
    "import os\n",
    "import pandas as pd\n",
    "\n",
    "class DataSummaryReport:\n",
    "    def __init__(self, folder_path):\n",
    "        self.folder_path = folder_path\n",
    "        self.data_frames = {}\n",
    "        \n",
    "    def read_data(self):\n",
    "        for file_name in os.listdir(self.folder_path):\n",
    "            if file_name.endswith('.parquet'):\n",
    "                file_path = os.path.join(self.folder_path, file_name)\n",
    "                base_name = os.path.splitext(file_name)[0]\n",
    "                self.data_frames[base_name] = pd.read_parquet(file_path)\n",
    "\n",
    "\n",
    "    def generate_report(self):\n",
    "        report_path = os.path.join(DATA_GENERATED_PATH, \"original_data_summary_report.txt\")\n",
    "        \n",
    "        with open(report_path, 'w') as f:\n",
    "            order_id = 0\n",
    "            for file_name, df in self.data_frames.items():\n",
    "                order_id += 1\n",
    "                f.write(\"=\" * 80 + \"\\n\\n\")\n",
    "                f.write(f\"Data Summary Report {order_id:02}: {file_name}_df\\n\") #{order_id:02} means that the order_id will be printed with 2 digits, and if it is less than 2 digits, it will be padded with 0\n",
    "                f.write(\"=\" * 80 + \"\\n\\n\")\n",
    "                f.write(f\"{order_id:02}.01 - File shape: {df.shape}\\n\\n\")\n",
    "                f.write(\"-\"*30 + \"\\n\\n\")\n",
    "                f.write(f\"{order_id:02}.02 - DataFrame columns:\\n{df.columns}\\n\\n\")\n",
    "                f.write(\"-\"*30 + \"\\n\\n\")\n",
    "                f.write(f\"{order_id:02}.03 - DataFrame data types:\\n{df.dtypes}\\n\\n\")\n",
    "                f.write(\"-\"*30 + \"\\n\\n\")\n",
    "                f.write(f\"{order_id:02}.04 - DataFrame info:\\n\")\n",
    "                df.info(buf=f)\n",
    "                f.write(\"\\n\\n\")\n",
    "                f.write(\"-\"*30 + \"\\n\\n\")\n",
    "                f.write(f\"{order_id:02}.05 - DataFrame description:\\n{df.describe()}\\n\\n\")\n",
    "                f.write(\"-\"*30 + \"\\n\\n\")\n",
    "                f.write(f\"{order_id:02}.06 - DataFrame unique value counts:\\n{df.nunique()}\\n\\n\")\n",
    "                f.write(\"-\"*30 + \"\\n\\n\")\n",
    "                f.write(f\"{order_id:02}.07 - DataFrame missing value counts:\\n{df.isna().sum()}\\n\\n\")\n",
    "                f.write(\"-\"*30 + \"\\n\\n\")\n",
    "                f.write(f\"{order_id:02}.08 - DataFrame has missing values: {df.isna().any().any()}\\n\")\n",
    "                f.write(\"-\"*30 + \"\\n\\n\")\n",
    "                f.write(f\"{order_id:02}.09 - DataFrame missing value percentage: {df.isna().sum().sum() / len(df) * 100:.2f}%\\n\\n\")\n",
    "                f.write(\"-\"*30 + \"\\n\\n\")\n",
    "                f.write(f\"{order_id:02}.10 - DataFrame head:\\n{df.head()}\\n\\n\")\n",
    "                f.write(\"-\"*30 + \"\\n\\n\")\n",
    "                f.write(f\"{order_id:02}.11 - DataFrame tail:\\n{df.tail()}\\n\\n\")\n",
    "                f.write(\"-\"*30 + \"\\n\\n\")\n",
    "                # f.write(\"=\" * 80 + \"\\n\\n\")\n",
    "            \n",
    "        return report_path\n",
    "    \n",
    "# read data:\n",
    "# Create a DataSummaryReport object\n",
    "report_generator = DataSummaryReport(DATA_ORIGINAL_PATH)\n",
    "\n",
    "report_generator.read_data()\n",
    "\n",
    "# Get the dataframes\n",
    "dataframes = report_generator.data_frames\n",
    "\n",
    "# Access the 'flights' dataframe\n",
    "flights_df = dataframes['flights']\n",
    "\n",
    "# Access the 'flights_test' dataframe\n",
    "flights_test_df = dataframes['flights_test']\n",
    "\n",
    "# Access the 'fuel_comsumption' dataframe\n",
    "fuel_comsumption_df = dataframes['fuel_comsumption']\n",
    "\n",
    "# Access the 'passengers' dataframe\n",
    "passengers_df = dataframes['passengers']\n",
    "\n"
   ]
  },
  {
   "cell_type": "code",
   "execution_count": 4,
   "metadata": {},
   "outputs": [
    {
     "name": "stdout",
     "output_type": "stream",
     "text": [
      "(15927485, 42)\n",
      "(660556, 20)\n",
      "(3035, 25)\n",
      "(2350497, 38)\n"
     ]
    }
   ],
   "source": [
    "# check all the *_df shape:\n",
    "print(flights_df.shape)\n",
    "print(flights_test_df.shape)\n",
    "print(fuel_comsumption_df.shape)\n",
    "print(passengers_df.shape)\n",
    "\n"
   ]
  },
  {
   "cell_type": "code",
   "execution_count": 5,
   "metadata": {},
   "outputs": [],
   "source": [
    "\n",
    "# read airport_info from parquet at path GENERATED_DATA_PATH\n",
    "# with pd.read_parquet()\n",
    "airport_info = pd.read_parquet(DATA_GENERATED_PATH + 'airport_info.parquet')"
   ]
  },
  {
   "cell_type": "markdown",
   "metadata": {},
   "source": [
    "#### **Task 1**: Test the hypothesis that the delay is from Normal distribution. and that **mean** of the delay is 0. Be careful about the outliers."
   ]
  },
  {
   "cell_type": "code",
   "execution_count": 6,
   "metadata": {},
   "outputs": [
    {
     "name": "stdout",
     "output_type": "stream",
     "text": [
      "\n",
      "searching in:  flights ...\n",
      "\n",
      "flights_df['dep_delay']\n",
      "flights_df['arr_delay']\n",
      "flights_df['carrier_delay']\n",
      "flights_df['weather_delay']\n",
      "flights_df['nas_delay']\n",
      "flights_df['security_delay']\n",
      "flights_df['late_aircraft_delay']\n",
      "\n",
      "searching in:  flights_test ...\n",
      "\n",
      "\n",
      "searching in:  fuel_comsumption ...\n",
      "\n",
      "\n",
      "searching in:  passengers ...\n",
      "\n"
     ]
    }
   ],
   "source": [
    "# show all the columns from these four tables that has has delay in the column names:\n",
    "delay_related_columns = []\n",
    "for df_name, df in dataframes.items():\n",
    "    print('\\nsearching in: ', df_name, '...\\n')\n",
    "    for col in df.columns:\n",
    "        if 'delay' in col:\n",
    "            print(f\"{df_name}_df['{col}']\")\n",
    "            delay_related_columns.append(f\"{df_name}_df['{col}']\")\n",
    "# delay_related_columns\n",
    "# delay_related_columns            \n",
    "            "
   ]
  },
  {
   "cell_type": "code",
   "execution_count": 7,
   "metadata": {},
   "outputs": [
    {
     "data": {
      "image/png": "[encoded data removed]",
      "text/plain": [
       "<Figure size 1440x3240 with 14 Axes>"
      ]
     },
     "metadata": {
      "needs_background": "light"
     },
     "output_type": "display_data"
    }
   ],
   "source": [
    "import pandas as pd\n",
    "import numpy as np\n",
    "import matplotlib.pyplot as plt\n",
    "import seaborn as sns\n",
    "from scipy import stats\n",
    "\n",
    "# Assuming you have loaded the data into a dataframe called flights_df\n",
    "\n",
    "# Remove missing values\n",
    "df = flights_df.dropna(subset=['arr_delay'])\n",
    "\n",
    "# Remove outliers using the IQR method (adjust the factor as needed)\n",
    "Q1 = df['arr_delay'].quantile(0.25)\n",
    "Q3 = df['arr_delay'].quantile(0.75)\n",
    "IQR = Q3 - Q1\n",
    "lower_bound = Q1 - 1.5 * IQR\n",
    "upper_bound = Q3 + 1.5 * IQR\n",
    "\n",
    "filtered_df = df[(df['arr_delay'] >= lower_bound) & (df['arr_delay'] <= upper_bound)]\n",
    "\n",
    "# Define delay-related columns\n",
    "delay_columns = [\n",
    "    'dep_delay', 'arr_delay', 'carrier_delay',\n",
    "    'weather_delay', 'nas_delay', 'security_delay', 'late_aircraft_delay'\n",
    "]\n",
    "\n",
    "fig, axes = plt.subplots(len(delay_columns), 2, figsize=(20, 45))\n",
    "\n",
    "# Plot distributions without filtering\n",
    "for i, column in enumerate(delay_columns):\n",
    "    data = df[column].dropna()\n",
    "    ks_stat, ks_p_value = stats.kstest(data, 'norm')\n",
    "    sw_stat, sw_p_value = stats.shapiro(data.sample(min(len(data), 5000)))  # Shapiro-Wilk test is limited to 5000 samples\n",
    "    _ = sns.histplot(data, kde=True, ax=axes[i, 0])\n",
    "    _ = axes[i, 0].set_title(f'{column} - Unfiltered\\nKS p-value: {ks_p_value:.3f}\\nSW p-value: {sw_p_value:.3f}')\n",
    "\n",
    "# Plot distributions with filtering\n",
    "for i, column in enumerate(delay_columns):\n",
    "    data = filtered_df[column].dropna()\n",
    "    ks_stat, ks_p_value = stats.kstest(data, 'norm')\n",
    "    sw_stat, sw_p_value = stats.shapiro(data.sample(min(len(data), 5000)))  # Shapiro-Wilk test is limited to 5000 samples\n",
    "    _ = sns.histplot(data, kde=True, ax=axes[i, 1])\n",
    "    _ = axes[i, 1].set_title(f'{column} - Filtered\\nKS p-value: {ks_p_value:.3f}\\nSW p-value: {sw_p_value:.3f}')\n",
    "\n",
    "plt.tight_layout()\n",
    "plt.savefig(IMAGES_GENERATED_PATH + 'EDA_01_delay_distributions.png', dpi=300, bbox_inches='tight', pad_inches=0.2, facecolor='w', edgecolor='w', transparent=False)\n",
    "plt.show()\n"
   ]
  },
  {
   "attachments": {},
   "cell_type": "markdown",
   "metadata": {},
   "source": [
    "The code provided tests the hypothesis that the delay is from a normal distribution and that the mean of the delay is 0 by using two statistical tests: the Kolmogorov-Smirnov (KS) test and the Shapiro-Wilk (SW) test. These tests are applied to each delay-related column in both the unfiltered and filtered dataframes.\n",
    "\n",
    "The Kolmogorov-Smirnov test compares the empirical cumulative distribution function (ECDF) of the sample data to the cumulative distribution function (CDF) of a reference distribution, in this case, the normal distribution. The KS test returns a p-value that indicates the likelihood of the sample data coming from the reference distribution. A high p-value (e.g., greater than 0.05) would suggest that the sample data may come from a normal distribution.\n",
    "\n",
    "The Shapiro-Wilk test specifically tests the null hypothesis that the sample data comes from a normal distribution. This test also returns a p-value, and a high p-value indicates that the data is likely to come from a normal distribution.\n",
    "\n",
    "In the provided code, the histograms of the delay-related columns are plotted, and the KS and SW test results (p-values) are displayed in the title of each subplot. If the p-values are high (greater than a chosen significance level, e.g., 0.05), this would suggest that the delay data might come from a normal distribution with a mean of 0. However, if the p-values are low, the null hypothesis would be rejected, indicating that the data does not come from a normal distribution with a mean of 0.\n",
    "\n",
    "It's important to note that these tests are sensitive to outliers, which is why the code also provides the option to filter the data using the IQR method to remove outliers before performing the tests. This allows for a comparison between the unfiltered and filtered data to observe how the presence of outliers may affect the test results."
   ]
  },
  {
   "cell_type": "code",
   "execution_count": null,
   "metadata": {},
   "outputs": [],
   "source": []
  },
  {
   "cell_type": "markdown",
   "metadata": {},
   "source": [
    "#### **Task 2**: Is average/median monthly delay different during the year? If yes, which are months with the biggest delays and what could be the reason?"
   ]
  },
  {
   "cell_type": "code",
   "execution_count": 8,
   "metadata": {},
   "outputs": [
    {
     "data": {
      "text/plain": [
       "Index(['fl_date', 'mkt_unique_carrier', 'branded_code_share', 'mkt_carrier',\n",
       "       'mkt_carrier_fl_num', 'op_unique_carrier', 'tail_num',\n",
       "       'op_carrier_fl_num', 'origin_airport_id', 'origin', 'origin_city_name',\n",
       "       'dest_airport_id', 'dest', 'dest_city_name', 'crs_dep_time', 'dep_time',\n",
       "       'dep_delay', 'taxi_out', 'wheels_off', 'wheels_on', 'taxi_in',\n",
       "       'crs_arr_time', 'arr_time', 'arr_delay', 'cancelled',\n",
       "       'cancellation_code', 'diverted', 'dup', 'crs_elapsed_time',\n",
       "       'actual_elapsed_time', 'air_time', 'flights', 'distance',\n",
       "       'carrier_delay', 'weather_delay', 'nas_delay', 'security_delay',\n",
       "       'late_aircraft_delay', 'first_dep_time', 'total_add_gtime',\n",
       "       'longest_add_gtime', 'no_name'],\n",
       "      dtype='object')"
      ]
     },
     "execution_count": 8,
     "metadata": {},
     "output_type": "execute_result"
    }
   ],
   "source": [
    "flights_df.columns"
   ]
  },
  {
   "cell_type": "code",
   "execution_count": 9,
   "metadata": {},
   "outputs": [],
   "source": [
    "# # Use seaborn to plot the monthly average arrival delay, with the yearly average as a horizontal line\n",
    "# # year and month need to be retrieved from the \"fl_date\" column,\n",
    "# #\n",
    "\n",
    "\n",
    "# flights_df['fl_date'].head() \n",
    "# returns:\n",
    "# 2018-05-18\n",
    "# 2018-05-18\n",
    "# 2018-05-18\n",
    "# 2018-05-18\n",
    "# 2018-05-18\n",
    "\n",
    "# # save the plot as png, use dpi=300, bbox_inches='tight', pad_inches=0.2, facecolor='w', edgecolor='w'\n",
    "# # path = IMAGES_GENERATED_PATH + 'monthly_average_arrival_delay.png'"
   ]
  },
  {
   "cell_type": "code",
   "execution_count": 10,
   "metadata": {},
   "outputs": [
    {
     "data": {
      "image/png": "[encoded data removed]",
      "text/plain": [
       "<Figure size 864x432 with 1 Axes>"
      ]
     },
     "metadata": {
      "needs_background": "light"
     },
     "output_type": "display_data"
    }
   ],
   "source": [
    "import pandas as pd\n",
    "import seaborn as sns\n",
    "import matplotlib.pyplot as plt\n",
    "\n",
    "# Assuming you have loaded the data into a dataframe called flights_df\n",
    "\n",
    "# Extract year and month from 'fl_date' column\n",
    "flights_df['year'] = pd.to_datetime(flights_df['fl_date']).dt.year\n",
    "flights_df['month'] = pd.to_datetime(flights_df['fl_date']).dt.month\n",
    "\n",
    "# Calculate monthly average and median arrival delay\n",
    "monthly_avg_delay = flights_df.groupby(['year', 'month'])['arr_delay'].mean().reset_index()\n",
    "monthly_median_delay = flights_df.groupby(['year', 'month'])['arr_delay'].median().reset_index()\n",
    "\n",
    "# Calculate yearly mean and median for 2018 and 2019\n",
    "yearly_mean = flights_df.groupby('year')['arr_delay'].mean()\n",
    "yearly_median = flights_df.groupby('year')['arr_delay'].median()\n",
    "\n",
    "_ = plt.figure(figsize=(12, 6))\n",
    "\n",
    "# Plot the monthly average and median arrival delay\n",
    "_ = sns.lineplot(data=monthly_avg_delay, x='month', y='arr_delay', hue='year', marker='o', style='year', palette='deep', label='Monthly Average')\n",
    "_ = sns.lineplot(data=monthly_median_delay, x='month', y='arr_delay', hue='year', marker='s', style='year', palette='pastel', label='Monthly Median')\n",
    "\n",
    "# Plot yearly mean and median lines\n",
    "for year in yearly_mean.index:\n",
    "    _ = plt.axhline(yearly_mean[year], color='red' if year == 2018 else 'blue', linestyle='--', label=f'2018 Mean' if year == 2018 else f'2019 Mean')\n",
    "\n",
    "for year in yearly_median.index:\n",
    "    _ = plt.axhline(yearly_median[year], color='red' if year == 2018 else 'blue', linestyle=':', label=f'2018 Median' if year == 2018 else f'2019 Median')\n",
    "\n",
    "# Customize the plot\n",
    "_ = plt.title('Monthly Average and Median Arrival Delay')\n",
    "_ = plt.xlabel('Month')\n",
    "_ = plt.ylabel('Arrival Delay (Minutes)')\n",
    "_ = plt.legend()\n",
    "\n",
    "# Save the plot as a PNG file\n",
    "path = IMAGES_GENERATED_PATH + 'EDA_02_monthly_average_arrival_delay.png'\n",
    "_ = plt.savefig(path, dpi=300, bbox_inches='tight', pad_inches=0.1, facecolor='w', edgecolor='w', transparent=False)\n",
    "\n",
    "_ = plt.show()\n"
   ]
  },
  {
   "cell_type": "markdown",
   "metadata": {},
   "source": [
    "#### **Task 3**: Does the weather affect the delay? \n",
    "Use the API to pull the weather information for flights. There is no need to get weather for ALL flights. We can choose the right representative sample. Let's focus on four weather types:\n",
    "- sunny\n",
    "- cloudy\n",
    "- rainy\n",
    "- snow.\n",
    "Test the hypothesis that these 4 delays are from the same distribution. If they are not, which ones are significantly different?"
   ]
  },
  {
   "cell_type": "code",
   "execution_count": 43,
   "metadata": {},
   "outputs": [],
   "source": [
    "# read the openweathermap_api_key.csv for the only value in the file\n",
    "OPEN_WEATHER_MAP_API_KEY = pd.read_csv('~/openweathermap_api_key.csv', header=None).values[0][0]\n",
    "\n"
   ]
  },
  {
   "cell_type": "code",
   "execution_count": 50,
   "metadata": {},
   "outputs": [
    {
     "data": {
      "text/plain": [
       "(1000, 44)"
      ]
     },
     "execution_count": 50,
     "metadata": {},
     "output_type": "execute_result"
    },
    {
     "data": {
      "text/plain": [
       "Index(['fl_date', 'mkt_unique_carrier', 'branded_code_share', 'mkt_carrier',\n",
       "       'mkt_carrier_fl_num', 'op_unique_carrier', 'tail_num',\n",
       "       'op_carrier_fl_num', 'origin_airport_id', 'origin', 'origin_city_name',\n",
       "       'dest_airport_id', 'dest', 'dest_city_name', 'crs_dep_time', 'dep_time',\n",
       "       'dep_delay', 'taxi_out', 'wheels_off', 'wheels_on', 'taxi_in',\n",
       "       'crs_arr_time', 'arr_time', 'arr_delay', 'cancelled',\n",
       "       'cancellation_code', 'diverted', 'dup', 'crs_elapsed_time',\n",
       "       'actual_elapsed_time', 'air_time', 'flights', 'distance',\n",
       "       'carrier_delay', 'weather_delay', 'nas_delay', 'security_delay',\n",
       "       'late_aircraft_delay', 'first_dep_time', 'total_add_gtime',\n",
       "       'longest_add_gtime', 'no_name', 'year', 'month'],\n",
       "      dtype='object')"
      ]
     },
     "execution_count": 50,
     "metadata": {},
     "output_type": "execute_result"
    }
   ],
   "source": [
    "sample_flights = flights_df.sample(n=1000, random_state=42)  # Adjust the sample size as needed\n",
    "\n",
    "# save the sample_flights dataframe as a parquet file\n",
    "sample_flights.to_parquet(DATA_GENERATED_PATH + 'sample_flights.parquet')\n",
    "\n"
   ]
  },
  {
   "cell_type": "code",
   "execution_count": 51,
   "metadata": {},
   "outputs": [
    {
     "data": {
      "text/plain": [
       "(1000, 48)"
      ]
     },
     "execution_count": 51,
     "metadata": {},
     "output_type": "execute_result"
    },
    {
     "data": {
      "text/plain": [
       "Index(['fl_date', 'mkt_unique_carrier', 'branded_code_share', 'mkt_carrier',\n",
       "       'mkt_carrier_fl_num', 'op_unique_carrier', 'tail_num',\n",
       "       'op_carrier_fl_num', 'origin_airport_id', 'origin', 'origin_city_name',\n",
       "       'dest_airport_id', 'dest', 'dest_city_name', 'crs_dep_time', 'dep_time',\n",
       "       'dep_delay', 'taxi_out', 'wheels_off', 'wheels_on', 'taxi_in',\n",
       "       'crs_arr_time', 'arr_time', 'arr_delay', 'cancelled',\n",
       "       'cancellation_code', 'diverted', 'dup', 'crs_elapsed_time',\n",
       "       'actual_elapsed_time', 'air_time', 'flights', 'distance',\n",
       "       'carrier_delay', 'weather_delay', 'nas_delay', 'security_delay',\n",
       "       'late_aircraft_delay', 'first_dep_time', 'total_add_gtime',\n",
       "       'longest_add_gtime', 'no_name', 'year', 'month', 'airport_code',\n",
       "       'airport_name', 'airport_lat', 'airport_long'],\n",
       "      dtype='object')"
      ]
     },
     "execution_count": 51,
     "metadata": {},
     "output_type": "execute_result"
    }
   ],
   "source": [
    "\n",
    "import pandas as pd\n",
    "import requests\n",
    "\n",
    "# Merge airport_info and sample_flights\n",
    "sample_flights = pd.merge(sample_flights, airport_info, left_on='origin', right_on='airport_code')\n",
    "\n",
    "# save the sample_flights dataframe as a parquet file\n",
    "sample_flights.to_parquet(DATA_GENERATED_PATH + 'sample_flights_with_airport_info.parquet')\n"
   ]
  },
  {
   "cell_type": "code",
   "execution_count": 56,
   "metadata": {},
   "outputs": [],
   "source": [
    "# read the sample_flights_with_airport_info.parquet file\n",
    "# sample_flights = pd.read_parquet(DATA_GENERATED_PATH + 'sample_flights_with_airport_info.parquet')"
   ]
  },
  {
   "attachments": {},
   "cell_type": "markdown",
   "metadata": {},
   "source": [
    "Test the API"
   ]
  },
  {
   "cell_type": "code",
   "execution_count": 26,
   "metadata": {},
   "outputs": [
    {
     "name": "stdout",
     "output_type": "stream",
     "text": [
      "API key is working!\n",
      "{'coord': {'lon': -0.1257, 'lat': 51.5085}, 'weather': [{'id': 804, 'main': 'Clouds', 'description': 'overcast clouds', 'icon': '04d'}], 'base': 'stations', 'main': {'temp': 283.24, 'feels_like': 282.68, 'temp_min': 281.96, 'temp_max': 284.14, 'pressure': 1015, 'humidity': 91}, 'visibility': 10000, 'wind': {'speed': 5.14, 'deg': 230}, 'clouds': {'all': 100}, 'dt': 1679302170, 'sys': {'type': 2, 'id': 2075535, 'country': 'GB', 'sunrise': 1679292250, 'sunset': 1679335921}, 'timezone': 0, 'id': 2643743, 'name': 'London', 'cod': 200}\n"
     ]
    }
   ],
   "source": [
    "# # The code to test the API key\n",
    "\n",
    "# import requests\n",
    "\n",
    "# city = 'London'\n",
    "# url = f'http://api.openweathermap.org/data/2.5/weather?q={city}&appid={OPEN_WEATHER_MAP_API_KEY}'\n",
    "\n",
    "# response = requests.get(url)\n",
    "\n",
    "# if response.status_code == 200:\n",
    "#     print('API key is working!')\n",
    "#     print(response.json())\n",
    "# else:\n",
    "#     print('There was an issue with the API key or request.')\n",
    "#     print(response.status_code, response.text)\n"
   ]
  },
  {
   "attachments": {},
   "cell_type": "markdown",
   "metadata": {},
   "source": [
    "##### OpenWeatherMap API"
   ]
  },
  {
   "cell_type": "code",
   "execution_count": 61,
   "metadata": {},
   "outputs": [
    {
     "data": {
      "text/plain": [
       "'response.status_code: '"
      ]
     },
     "metadata": {},
     "output_type": "display_data"
    },
    {
     "data": {
      "text/plain": [
       "200"
      ]
     },
     "metadata": {},
     "output_type": "display_data"
    }
   ],
   "source": [
    "# define a switch to this api call\n",
    "# if the switch is on, then the api call will be made\n",
    "# if the switch is off, then the api call will not be made\n",
    "\n",
    "open_weather_api_switch = False\n",
    "\n",
    "if open_weather_api_switch:\n",
    "\n",
    "    import pandas as pd\n",
    "    import requests\n",
    "    import time\n",
    "    from IPython.display import display, clear_output\n",
    "\n",
    "    # Function to fetch weather data\n",
    "    def get_weather_data(api_key, lat, lon, date):\n",
    "        url = f'https://api.openweathermap.org/data/3.0/onecall/timemachine?lat={lat}&lon={lon}&dt={date}&appid={api_key}'\n",
    "        response = requests.get(url)\n",
    "\n",
    "        if response.status_code == 200:\n",
    "            clear_output(wait=True)\n",
    "            display('response.status_code: ', response.status_code)\n",
    "            data = response.json()\n",
    "\n",
    "            weather_data = {\n",
    "                'sunrise': data['data'][0].get('sunrise', None),\n",
    "                'sunset': data['data'][0].get('sunset', None),\n",
    "                'temp': data['data'][0].get('temp', None),\n",
    "                'feels_like': data['data'][0].get('feels_like', None),\n",
    "                'pressure': data['data'][0].get('pressure', None),\n",
    "                'humidity': data['data'][0].get('humidity', None),\n",
    "                'dew_point': data['data'][0].get('dew_point', None),\n",
    "                'uvi': data['data'][0].get('uvi', None),\n",
    "                'clouds': data['data'][0].get('clouds', None),\n",
    "                'visibility': data['data'][0].get('visibility', None),\n",
    "                'wind_speed': data['data'][0].get('wind_speed', None),\n",
    "                'wind_deg': data['data'][0].get('wind_deg', None),\n",
    "                'weather_id': data['data'][0]['weather'][0].get('id', None),\n",
    "                'weather_main': data['data'][0]['weather'][0].get('main', None),\n",
    "                'weather_description': data['data'][0]['weather'][0].get('description', None),\n",
    "                'weather_icon': data['data'][0]['weather'][0].get('icon', None)\n",
    "            }\n",
    "\n",
    "            return weather_data\n",
    "        else:\n",
    "            clear_output(wait=True)\n",
    "            display('response.status_code: ', response.status_code)\n",
    "            return None\n",
    "\n",
    "    api_key = OPEN_WEATHER_MAP_API_KEY\n",
    "\n",
    "    # Convert date to UNIX timestamp (required by OpenWeatherMap API)\n",
    "    sample_flights['timestamp'] = sample_flights['fl_date'].apply(lambda x: int(pd.to_datetime(x).timestamp()))\n",
    "\n",
    "    # Fetch weather data for each flight in the sample, limiting requests to 1 per second\n",
    "    weather_columns = ['sunrise', 'sunset', 'temp', 'feels_like', 'pressure', 'humidity', 'dew_point', 'uvi', 'clouds', 'visibility', 'wind_speed', 'wind_deg', 'weather_id', 'weather_main', 'weather_description', 'weather_icon']\n",
    "\n",
    "    for column in weather_columns:\n",
    "        sample_flights[column] = None\n",
    "\n",
    "    def fetch_weather(row):\n",
    "        time.sleep(1)\n",
    "        weather_data = get_weather_data(api_key, row['airport_lat'], row['airport_long'], row['timestamp'])\n",
    "\n",
    "        if weather_data:\n",
    "            for column in weather_columns:\n",
    "                row[column] = weather_data[column]\n",
    "        return row\n",
    "\n",
    "    sample_flights = sample_flights.apply(fetch_weather, axis=1)\n",
    "    sample_flights.to_parquet(DATA_GENERATED_PATH + 'sample_flights_with_airport_info_weather.parquet')\n",
    "else:\n",
    "    sample_flights = pd.read_parquet(DATA_GENERATED_PATH + 'sample_flights_with_airport_info_weather.parquet')"
   ]
  },
  {
   "cell_type": "code",
   "execution_count": 68,
   "metadata": {},
   "outputs": [
    {
     "data": {
      "text/plain": [
       "array(['Thunderstorm', 'Clouds', 'Clear', 'Rain', 'Fog', 'Mist', 'Snow',\n",
       "       'Haze', 'Drizzle', 'Smoke'], dtype=object)"
      ]
     },
     "execution_count": 68,
     "metadata": {},
     "output_type": "execute_result"
    }
   ],
   "source": [
    "# The unique values of the weather_main column are:\n",
    "sample_flights['weather_main'].unique()"
   ]
  },
  {
   "cell_type": "code",
   "execution_count": 71,
   "metadata": {},
   "outputs": [
    {
     "data": {
      "text/plain": [
       "(1000, 65)"
      ]
     },
     "execution_count": 71,
     "metadata": {},
     "output_type": "execute_result"
    },
    {
     "data": {
      "text/plain": [
       "Index(['fl_date', 'mkt_unique_carrier', 'branded_code_share', 'mkt_carrier',\n",
       "       'mkt_carrier_fl_num', 'op_unique_carrier', 'tail_num',\n",
       "       'op_carrier_fl_num', 'origin_airport_id', 'origin', 'origin_city_name',\n",
       "       'dest_airport_id', 'dest', 'dest_city_name', 'crs_dep_time', 'dep_time',\n",
       "       'dep_delay', 'taxi_out', 'wheels_off', 'wheels_on', 'taxi_in',\n",
       "       'crs_arr_time', 'arr_time', 'arr_delay', 'cancelled',\n",
       "       'cancellation_code', 'diverted', 'dup', 'crs_elapsed_time',\n",
       "       'actual_elapsed_time', 'air_time', 'flights', 'distance',\n",
       "       'carrier_delay', 'weather_delay', 'nas_delay', 'security_delay',\n",
       "       'late_aircraft_delay', 'first_dep_time', 'total_add_gtime',\n",
       "       'longest_add_gtime', 'no_name', 'year', 'month', 'airport_code',\n",
       "       'airport_name', 'airport_lat', 'airport_long', 'timestamp', 'sunrise',\n",
       "       'sunset', 'temp', 'feels_like', 'pressure', 'humidity', 'dew_point',\n",
       "       'uvi', 'clouds', 'visibility', 'wind_speed', 'wind_deg', 'weather_id',\n",
       "       'weather_main', 'weather_description', 'weather_icon'],\n",
       "      dtype='object')"
      ]
     },
     "execution_count": 71,
     "metadata": {},
     "output_type": "execute_result"
    },
    {
     "data": {
      "text/html": [
       "<div>\n",
       "<style scoped>\n",
       "    .dataframe tbody tr th:only-of-type {\n",
       "        vertical-align: middle;\n",
       "    }\n",
       "\n",
       "    .dataframe tbody tr th {\n",
       "        vertical-align: top;\n",
       "    }\n",
       "\n",
       "    .dataframe thead th {\n",
       "        text-align: right;\n",
       "    }\n",
       "</style>\n",
       "<table border=\"1\" class=\"dataframe\">\n",
       "  <thead>\n",
       "    <tr style=\"text-align: right;\">\n",
       "      <th></th>\n",
       "      <th>fl_date</th>\n",
       "      <th>mkt_unique_carrier</th>\n",
       "      <th>branded_code_share</th>\n",
       "      <th>mkt_carrier</th>\n",
       "      <th>mkt_carrier_fl_num</th>\n",
       "      <th>op_unique_carrier</th>\n",
       "      <th>tail_num</th>\n",
       "      <th>op_carrier_fl_num</th>\n",
       "      <th>origin_airport_id</th>\n",
       "      <th>origin</th>\n",
       "      <th>...</th>\n",
       "      <th>dew_point</th>\n",
       "      <th>uvi</th>\n",
       "      <th>clouds</th>\n",
       "      <th>visibility</th>\n",
       "      <th>wind_speed</th>\n",
       "      <th>wind_deg</th>\n",
       "      <th>weather_id</th>\n",
       "      <th>weather_main</th>\n",
       "      <th>weather_description</th>\n",
       "      <th>weather_icon</th>\n",
       "    </tr>\n",
       "  </thead>\n",
       "  <tbody>\n",
       "    <tr>\n",
       "      <th>0</th>\n",
       "      <td>2018-09-03</td>\n",
       "      <td>WN</td>\n",
       "      <td>WN</td>\n",
       "      <td>WN</td>\n",
       "      <td>55</td>\n",
       "      <td>WN</td>\n",
       "      <td>N489WN</td>\n",
       "      <td>55</td>\n",
       "      <td>14107</td>\n",
       "      <td>PHX</td>\n",
       "      <td>...</td>\n",
       "      <td>284.53</td>\n",
       "      <td>None</td>\n",
       "      <td>75</td>\n",
       "      <td>10000</td>\n",
       "      <td>4.63</td>\n",
       "      <td>190</td>\n",
       "      <td>211</td>\n",
       "      <td>Thunderstorm</td>\n",
       "      <td>thunderstorm</td>\n",
       "      <td>11d</td>\n",
       "    </tr>\n",
       "    <tr>\n",
       "      <th>1</th>\n",
       "      <td>2018-07-04</td>\n",
       "      <td>F9</td>\n",
       "      <td>F9</td>\n",
       "      <td>F9</td>\n",
       "      <td>1412</td>\n",
       "      <td>F9</td>\n",
       "      <td>N910FR</td>\n",
       "      <td>1412</td>\n",
       "      <td>14107</td>\n",
       "      <td>PHX</td>\n",
       "      <td>...</td>\n",
       "      <td>275.66</td>\n",
       "      <td>None</td>\n",
       "      <td>20</td>\n",
       "      <td>10000</td>\n",
       "      <td>3.10</td>\n",
       "      <td>230</td>\n",
       "      <td>801</td>\n",
       "      <td>Clouds</td>\n",
       "      <td>few clouds</td>\n",
       "      <td>02d</td>\n",
       "    </tr>\n",
       "    <tr>\n",
       "      <th>2</th>\n",
       "      <td>2018-06-18</td>\n",
       "      <td>WN</td>\n",
       "      <td>WN</td>\n",
       "      <td>WN</td>\n",
       "      <td>1567</td>\n",
       "      <td>WN</td>\n",
       "      <td>N8685B</td>\n",
       "      <td>1567</td>\n",
       "      <td>14107</td>\n",
       "      <td>PHX</td>\n",
       "      <td>...</td>\n",
       "      <td>275.06</td>\n",
       "      <td>None</td>\n",
       "      <td>20</td>\n",
       "      <td>10000</td>\n",
       "      <td>8.23</td>\n",
       "      <td>190</td>\n",
       "      <td>801</td>\n",
       "      <td>Clouds</td>\n",
       "      <td>few clouds</td>\n",
       "      <td>02d</td>\n",
       "    </tr>\n",
       "    <tr>\n",
       "      <th>3</th>\n",
       "      <td>2019-02-08</td>\n",
       "      <td>DL</td>\n",
       "      <td>DL</td>\n",
       "      <td>DL</td>\n",
       "      <td>1494</td>\n",
       "      <td>DL</td>\n",
       "      <td>N339DN</td>\n",
       "      <td>1494</td>\n",
       "      <td>14107</td>\n",
       "      <td>PHX</td>\n",
       "      <td>...</td>\n",
       "      <td>265.25</td>\n",
       "      <td>None</td>\n",
       "      <td>0</td>\n",
       "      <td>10000</td>\n",
       "      <td>2.60</td>\n",
       "      <td>10</td>\n",
       "      <td>800</td>\n",
       "      <td>Clear</td>\n",
       "      <td>clear sky</td>\n",
       "      <td>01d</td>\n",
       "    </tr>\n",
       "    <tr>\n",
       "      <th>4</th>\n",
       "      <td>2019-11-08</td>\n",
       "      <td>AA</td>\n",
       "      <td>AA</td>\n",
       "      <td>AA</td>\n",
       "      <td>2795</td>\n",
       "      <td>AA</td>\n",
       "      <td>N763US</td>\n",
       "      <td>2795</td>\n",
       "      <td>14107</td>\n",
       "      <td>PHX</td>\n",
       "      <td>...</td>\n",
       "      <td>276.95</td>\n",
       "      <td>None</td>\n",
       "      <td>40</td>\n",
       "      <td>10000</td>\n",
       "      <td>2.60</td>\n",
       "      <td>250</td>\n",
       "      <td>802</td>\n",
       "      <td>Clouds</td>\n",
       "      <td>scattered clouds</td>\n",
       "      <td>03d</td>\n",
       "    </tr>\n",
       "  </tbody>\n",
       "</table>\n",
       "<p>5 rows × 65 columns</p>\n",
       "</div>"
      ],
      "text/plain": [
       "      fl_date mkt_unique_carrier branded_code_share mkt_carrier  \\\n",
       "0  2018-09-03                 WN                 WN          WN   \n",
       "1  2018-07-04                 F9                 F9          F9   \n",
       "2  2018-06-18                 WN                 WN          WN   \n",
       "3  2019-02-08                 DL                 DL          DL   \n",
       "4  2019-11-08                 AA                 AA          AA   \n",
       "\n",
       "   mkt_carrier_fl_num op_unique_carrier tail_num  op_carrier_fl_num  \\\n",
       "0                  55                WN   N489WN                 55   \n",
       "1                1412                F9   N910FR               1412   \n",
       "2                1567                WN   N8685B               1567   \n",
       "3                1494                DL   N339DN               1494   \n",
       "4                2795                AA   N763US               2795   \n",
       "\n",
       "   origin_airport_id origin  ... dew_point   uvi clouds visibility  \\\n",
       "0              14107    PHX  ...    284.53  None     75      10000   \n",
       "1              14107    PHX  ...    275.66  None     20      10000   \n",
       "2              14107    PHX  ...    275.06  None     20      10000   \n",
       "3              14107    PHX  ...    265.25  None      0      10000   \n",
       "4              14107    PHX  ...    276.95  None     40      10000   \n",
       "\n",
       "   wind_speed  wind_deg  weather_id  weather_main  weather_description  \\\n",
       "0        4.63       190         211  Thunderstorm         thunderstorm   \n",
       "1        3.10       230         801        Clouds           few clouds   \n",
       "2        8.23       190         801        Clouds           few clouds   \n",
       "3        2.60        10         800         Clear            clear sky   \n",
       "4        2.60       250         802        Clouds     scattered clouds   \n",
       "\n",
       "   weather_icon  \n",
       "0           11d  \n",
       "1           02d  \n",
       "2           02d  \n",
       "3           01d  \n",
       "4           03d  \n",
       "\n",
       "[5 rows x 65 columns]"
      ]
     },
     "execution_count": 71,
     "metadata": {},
     "output_type": "execute_result"
    }
   ],
   "source": [
    "sample_flights.shape\n",
    "sample_flights.columns\n",
    "sample_flights.head()"
   ]
  },
  {
   "cell_type": "code",
   "execution_count": 72,
   "metadata": {},
   "outputs": [
    {
     "data": {
      "text/plain": [
       "<AxesSubplot:xlabel='arr_delay', ylabel='Density'>"
      ]
     },
     "execution_count": 72,
     "metadata": {},
     "output_type": "execute_result"
    },
    {
     "data": {
      "text/plain": [
       "<AxesSubplot:xlabel='arr_delay', ylabel='Density'>"
      ]
     },
     "execution_count": 72,
     "metadata": {},
     "output_type": "execute_result"
    },
    {
     "data": {
      "text/plain": [
       "<AxesSubplot:xlabel='arr_delay', ylabel='Density'>"
      ]
     },
     "execution_count": 72,
     "metadata": {},
     "output_type": "execute_result"
    },
    {
     "data": {
      "text/plain": [
       "<AxesSubplot:xlabel='arr_delay', ylabel='Density'>"
      ]
     },
     "execution_count": 72,
     "metadata": {},
     "output_type": "execute_result"
    },
    {
     "data": {
      "text/plain": [
       "<matplotlib.legend.Legend at 0x7fac8f4881f0>"
      ]
     },
     "execution_count": 72,
     "metadata": {},
     "output_type": "execute_result"
    },
    {
     "data": {
      "text/plain": [
       "Text(0.5, 0, 'Arrival Delay (minutes)')"
      ]
     },
     "execution_count": 72,
     "metadata": {},
     "output_type": "execute_result"
    },
    {
     "data": {
      "text/plain": [
       "Text(0, 0.5, 'Density')"
      ]
     },
     "execution_count": 72,
     "metadata": {},
     "output_type": "execute_result"
    },
    {
     "data": {
      "text/plain": [
       "Text(0.5, 1.0, 'Delay Distributions by Weather Type')"
      ]
     },
     "execution_count": 72,
     "metadata": {},
     "output_type": "execute_result"
    },
    {
     "data": {
      "image/png": "[encoded data removed]",
      "text/plain": [
       "<Figure size 432x288 with 1 Axes>"
      ]
     },
     "metadata": {
      "needs_background": "light"
     },
     "output_type": "display_data"
    },
    {
     "name": "stdout",
     "output_type": "stream",
     "text": [
      "ANOVA test p-value: 0.2964835947206174\n",
      "Fail to reject the null hypothesis. Delays are from the same distribution.\n"
     ]
    }
   ],
   "source": [
    "import numpy as np\n",
    "import seaborn as sns\n",
    "import matplotlib.pyplot as plt\n",
    "from scipy.stats import f_oneway\n",
    "\n",
    "# Filter dataset based on weather types\n",
    "sunny_flights = sample_flights[sample_flights['weather_main'] == 'Clear']\n",
    "cloudy_flights = sample_flights[sample_flights['weather_main'] == 'Clouds']\n",
    "rainy_flights = sample_flights[sample_flights['weather_main'] == 'Rain']\n",
    "snow_flights = sample_flights[sample_flights['weather_main'] == 'Snow']\n",
    "\n",
    "# Extract delay data for each weather type\n",
    "sunny_delays = sunny_flights['arr_delay'].dropna()\n",
    "cloudy_delays = cloudy_flights['arr_delay'].dropna()\n",
    "rainy_delays = rainy_flights['arr_delay'].dropna()\n",
    "snow_delays = snow_flights['arr_delay'].dropna()\n",
    "\n",
    "# Plot distributions of delays for each weather type\n",
    "sns.kdeplot(sunny_delays, label='Sunny')\n",
    "sns.kdeplot(cloudy_delays, label='Cloudy')\n",
    "sns.kdeplot(rainy_delays, label='Rainy')\n",
    "sns.kdeplot(snow_delays, label='Snow')\n",
    "plt.legend()\n",
    "plt.xlabel('Arrival Delay (minutes)')\n",
    "plt.ylabel('Density')\n",
    "plt.title('Delay Distributions by Weather Type')\n",
    "plt.show()\n",
    "\n",
    "# Perform one-way ANOVA test\n",
    "f_stat, p_value = f_oneway(sunny_delays, cloudy_delays, rainy_delays, snow_delays)\n",
    "print(f'ANOVA test p-value: {p_value}')\n",
    "\n",
    "# Set the significance level\n",
    "alpha = 0.05\n",
    "\n",
    "if p_value < alpha:\n",
    "    print('Reject the null hypothesis. Delays are not from the same distribution.')\n",
    "else:\n",
    "    print('Fail to reject the null hypothesis. Delays are from the same distribution.')\n"
   ]
  },
  {
   "attachments": {},
   "cell_type": "markdown",
   "metadata": {},
   "source": [
    "The Kruskal-Wallis test and Dunn's test are non-parametric alternatives to the one-way ANOVA and post hoc pairwise t-tests. These non-parametric tests are appropriate when the data do not meet the assumptions of the parametric tests, such as the assumption of normality or equal variances across groups.\n",
    "\n",
    "If the data do not meet the assumptions of the one-way ANOVA, we should use the Kruskal-Wallis test instead. If the Kruskal-Wallis test shows a significant difference among the groups, we can then perform Dunn's test for pairwise comparisons with a correction for multiple comparisons (e.g., Bonferroni correction).\n",
    "\n"
   ]
  },
  {
   "cell_type": "code",
   "execution_count": 75,
   "metadata": {},
   "outputs": [
    {
     "name": "stdout",
     "output_type": "stream",
     "text": [
      "Kruskal-Wallis test p-value: 0.31409318399723435\n",
      "Fail to reject the null hypothesis. Delays are from the same distribution.\n"
     ]
    }
   ],
   "source": [
    "from scipy.stats import kruskal\n",
    "import scikit_posthocs as sp\n",
    "\n",
    "# Perform the Kruskal-Wallis test\n",
    "h_stat, p_value_kruskal = kruskal(sunny_delays, cloudy_delays, rainy_delays, snow_delays)\n",
    "print(f'Kruskal-Wallis test p-value: {p_value_kruskal}')\n",
    "\n",
    "if p_value_kruskal < alpha:\n",
    "    print('Reject the null hypothesis. Delays are not from the same distribution.')\n",
    "\n",
    "    # Perform Dunn's test for pairwise comparisons\n",
    "    all_delays = np.concatenate([sunny_delays, cloudy_delays, rainy_delays, snow_delays])\n",
    "    weather_groups = np.concatenate([\n",
    "        np.full(sunny_delays.shape, 'Sunny'),\n",
    "        np.full(cloudy_delays.shape, 'Cloudy'),\n",
    "        np.full(rainy_delays.shape, 'Rainy'),\n",
    "        np.full(snow_delays.shape, 'Snow'),\n",
    "    ])\n",
    "\n",
    "    dunn_result = sp.posthoc_dunn(weather_groups, all_delays, p_adjust='bonferroni')\n",
    "    print(\"\\nDunn's test pairwise comparison results (Bonferroni-adjusted p-values):\\n\")\n",
    "    print(dunn_result)\n",
    "else:\n",
    "    print('Fail to reject the null hypothesis. Delays are from the same distribution.')\n"
   ]
  },
  {
   "attachments": {},
   "cell_type": "markdown",
   "metadata": {},
   "source": [
    "Consider all the weather types instead of 4."
   ]
  },
  {
   "cell_type": "code",
   "execution_count": 76,
   "metadata": {},
   "outputs": [
    {
     "name": "stdout",
     "output_type": "stream",
     "text": [
      "Kruskal-Wallis test p-value: 0.11219170991991469\n",
      "Fail to reject the null hypothesis. Delays are from the same distribution.\n"
     ]
    }
   ],
   "source": [
    "import numpy as np\n",
    "import pandas as pd\n",
    "from scipy.stats import kruskal\n",
    "import scikit_posthocs as sp\n",
    "\n",
    "alpha = 0.05\n",
    "\n",
    "# Define the weather types\n",
    "weather_types = ['Thunderstorm', 'Clouds', 'Clear', 'Rain', 'Fog', 'Mist', 'Snow', 'Haze', 'Drizzle', 'Smoke']\n",
    "\n",
    "# Extract delay data for each weather type\n",
    "delays_by_weather = [sample_flights[sample_flights['weather_main'] == weather]['arr_delay'].dropna().values for weather in weather_types]\n",
    "\n",
    "# Perform the Kruskal-Wallis test\n",
    "h_stat, p_value_kruskal = kruskal(*delays_by_weather)\n",
    "print(f'Kruskal-Wallis test p-value: {p_value_kruskal}')\n",
    "\n",
    "if p_value_kruskal < alpha:\n",
    "    print('Reject the null hypothesis. Delays are not from the same distribution.')\n",
    "\n",
    "    # Perform Dunn's test for pairwise comparisons\n",
    "    all_delays = np.concatenate(delays_by_weather)\n",
    "    weather_groups = np.concatenate([np.full(delays.shape, weather) for weather, delays in zip(weather_types, delays_by_weather)])\n",
    "\n",
    "    dunn_result = sp.posthoc_dunn(weather_groups, all_delays, p_adjust='bonferroni')\n",
    "    print(\"\\nDunn's test pairwise comparison results (Bonferroni-adjusted p-values):\\n\")\n",
    "    print(dunn_result)\n",
    "else:\n",
    "    print('Fail to reject the null hypothesis. Delays are from the same distribution.')\n"
   ]
  },
  {
   "cell_type": "markdown",
   "metadata": {},
   "source": [
    "#### **Task 4**: How taxi times changing during the day? Does higher traffic lead to bigger taxi times?"
   ]
  },
  {
   "cell_type": "code",
   "execution_count": 83,
   "metadata": {},
   "outputs": [
    {
     "data": {
      "text/plain": [
       "<AxesSubplot:xlabel='dep_hour', ylabel='num_flights'>"
      ]
     },
     "execution_count": 83,
     "metadata": {},
     "output_type": "execute_result"
    },
    {
     "data": {
      "image/png": "[encoded data removed]",
      "text/plain": [
       "<Figure size 720x360 with 2 Axes>"
      ]
     },
     "metadata": {
      "needs_background": "light"
     },
     "output_type": "display_data"
    }
   ],
   "source": [
    "import pandas as pd\n",
    "import matplotlib.pyplot as plt\n",
    "import seaborn as sns\n",
    "\n",
    "# Assuming you have loaded the data into a dataframe called flights_df\n",
    "\n",
    "# Function to extract the hour of the day from the time string\n",
    "def extract_hour(time_str):\n",
    "    time_str = str(time_str).zfill(4)\n",
    "    return int(time_str[:2])\n",
    "\n",
    "# Extract the hour of the day from the scheduled departure and arrival times\n",
    "flights_df['dep_hour'] = flights_df['crs_dep_time'].apply(extract_hour)\n",
    "flights_df['arr_hour'] = flights_df['crs_arr_time'].apply(extract_hour)\n",
    "\n",
    "# Calculate the number of flights per hour (traffic)\n",
    "hourly_traffic = flights_df.groupby('dep_hour').size().reset_index(name='num_flights')\n",
    "\n",
    "# Calculate the average taxi-out and taxi-in times for each hour\n",
    "hourly_taxi_out = flights_df.groupby('dep_hour')['taxi_out'].mean().reset_index()\n",
    "hourly_taxi_in = flights_df.groupby('arr_hour')['taxi_in'].mean().reset_index()\n",
    "\n",
    "# Merge the dataframes for easier plotting\n",
    "merged_data = pd.merge(hourly_traffic, hourly_taxi_out, on='dep_hour')\n",
    "merged_data = pd.merge(merged_data, hourly_taxi_in, left_on='dep_hour', right_on='arr_hour')\n",
    "merged_data = merged_data.drop(columns=['arr_hour'])\n",
    "\n",
    "# Plot the traffic and average taxi times against the hour of the day\n",
    "fig, ax1 = plt.subplots(figsize=(10, 5))\n",
    "\n",
    "sns.lineplot(data=merged_data, x='dep_hour', y='num_flights', ax=ax1, color='b', label='Number of Flights')\n",
    "_ = ax1.set_xlabel('Hour of Day')\n",
    "_ = ax1.set_ylabel('Number of Flights', color='b')\n",
    "_ = ax1.tick_params('y', colors='b')\n",
    "\n",
    "ax2 = ax1.twinx()\n",
    "_ = sns.lineplot(data=merged_data, x='dep_hour', y='taxi_out', ax=ax2, color='r', label='Avg Taxi-Out Time')\n",
    "_ = sns.lineplot(data=merged_data, x='dep_hour', y='taxi_in', ax=ax2, color='g', label='Avg Taxi-In Time')\n",
    "_ = ax2.set_ylabel('Taxi Time (Minutes)', color='r')\n",
    "_ = ax2.tick_params('y', colors='r')\n",
    "\n",
    "_ = plt.title('Hourly Traffic and Taxi Times')\n",
    "_ = fig.legend(loc='upper left', bbox_to_anchor=(0.15, 0.85), bbox_transform=ax1.transAxes)\n",
    "# save png to IMAGE_GENERATION_PATH\n",
    "_ = plt.savefig(os.path.join(IMAGES_GENERATED_PATH, 'hourly_traffic_taxi_times.png'), bbox_inches='tight', dpi=300, facecolor='w',edgecolor='w', transparent=False)\n",
    "_ = plt.show()\n"
   ]
  },
  {
   "cell_type": "code",
   "execution_count": 84,
   "metadata": {},
   "outputs": [
    {
     "data": {
      "text/html": [
       "<div>\n",
       "<style scoped>\n",
       "    .dataframe tbody tr th:only-of-type {\n",
       "        vertical-align: middle;\n",
       "    }\n",
       "\n",
       "    .dataframe tbody tr th {\n",
       "        vertical-align: top;\n",
       "    }\n",
       "\n",
       "    .dataframe thead th {\n",
       "        text-align: right;\n",
       "    }\n",
       "</style>\n",
       "<table border=\"1\" class=\"dataframe\">\n",
       "  <thead>\n",
       "    <tr style=\"text-align: right;\">\n",
       "      <th></th>\n",
       "      <th>dep_hour</th>\n",
       "      <th>num_flights</th>\n",
       "      <th>taxi_out</th>\n",
       "      <th>taxi_in</th>\n",
       "    </tr>\n",
       "  </thead>\n",
       "  <tbody>\n",
       "    <tr>\n",
       "      <th>0</th>\n",
       "      <td>0</td>\n",
       "      <td>34142</td>\n",
       "      <td>15.247244</td>\n",
       "      <td>6.480646</td>\n",
       "    </tr>\n",
       "    <tr>\n",
       "      <th>1</th>\n",
       "      <td>1</td>\n",
       "      <td>13322</td>\n",
       "      <td>13.601638</td>\n",
       "      <td>6.061842</td>\n",
       "    </tr>\n",
       "    <tr>\n",
       "      <th>2</th>\n",
       "      <td>2</td>\n",
       "      <td>4356</td>\n",
       "      <td>11.986757</td>\n",
       "      <td>5.881094</td>\n",
       "    </tr>\n",
       "    <tr>\n",
       "      <th>3</th>\n",
       "      <td>3</td>\n",
       "      <td>3420</td>\n",
       "      <td>11.959857</td>\n",
       "      <td>6.097484</td>\n",
       "    </tr>\n",
       "    <tr>\n",
       "      <th>4</th>\n",
       "      <td>4</td>\n",
       "      <td>2220</td>\n",
       "      <td>11.264357</td>\n",
       "      <td>7.169193</td>\n",
       "    </tr>\n",
       "    <tr>\n",
       "      <th>5</th>\n",
       "      <td>5</td>\n",
       "      <td>378527</td>\n",
       "      <td>15.388673</td>\n",
       "      <td>7.312468</td>\n",
       "    </tr>\n",
       "    <tr>\n",
       "      <th>6</th>\n",
       "      <td>6</td>\n",
       "      <td>1153650</td>\n",
       "      <td>16.796728</td>\n",
       "      <td>8.257843</td>\n",
       "    </tr>\n",
       "    <tr>\n",
       "      <th>7</th>\n",
       "      <td>7</td>\n",
       "      <td>1071851</td>\n",
       "      <td>17.778963</td>\n",
       "      <td>8.015422</td>\n",
       "    </tr>\n",
       "    <tr>\n",
       "      <th>8</th>\n",
       "      <td>8</td>\n",
       "      <td>1051054</td>\n",
       "      <td>19.231258</td>\n",
       "      <td>8.656256</td>\n",
       "    </tr>\n",
       "    <tr>\n",
       "      <th>9</th>\n",
       "      <td>9</td>\n",
       "      <td>935292</td>\n",
       "      <td>18.562103</td>\n",
       "      <td>8.134389</td>\n",
       "    </tr>\n",
       "    <tr>\n",
       "      <th>10</th>\n",
       "      <td>10</td>\n",
       "      <td>975327</td>\n",
       "      <td>17.783981</td>\n",
       "      <td>7.895078</td>\n",
       "    </tr>\n",
       "    <tr>\n",
       "      <th>11</th>\n",
       "      <td>11</td>\n",
       "      <td>988013</td>\n",
       "      <td>17.300845</td>\n",
       "      <td>7.242815</td>\n",
       "    </tr>\n",
       "    <tr>\n",
       "      <th>12</th>\n",
       "      <td>12</td>\n",
       "      <td>1002688</td>\n",
       "      <td>16.920259</td>\n",
       "      <td>7.306480</td>\n",
       "    </tr>\n",
       "    <tr>\n",
       "      <th>13</th>\n",
       "      <td>13</td>\n",
       "      <td>900303</td>\n",
       "      <td>16.619073</td>\n",
       "      <td>7.298282</td>\n",
       "    </tr>\n",
       "    <tr>\n",
       "      <th>14</th>\n",
       "      <td>14</td>\n",
       "      <td>945396</td>\n",
       "      <td>17.110872</td>\n",
       "      <td>7.480047</td>\n",
       "    </tr>\n",
       "    <tr>\n",
       "      <th>15</th>\n",
       "      <td>15</td>\n",
       "      <td>973433</td>\n",
       "      <td>17.673021</td>\n",
       "      <td>7.407902</td>\n",
       "    </tr>\n",
       "    <tr>\n",
       "      <th>16</th>\n",
       "      <td>16</td>\n",
       "      <td>901854</td>\n",
       "      <td>17.395887</td>\n",
       "      <td>7.253744</td>\n",
       "    </tr>\n",
       "    <tr>\n",
       "      <th>17</th>\n",
       "      <td>17</td>\n",
       "      <td>1049071</td>\n",
       "      <td>17.979918</td>\n",
       "      <td>7.878905</td>\n",
       "    </tr>\n",
       "    <tr>\n",
       "      <th>18</th>\n",
       "      <td>18</td>\n",
       "      <td>920080</td>\n",
       "      <td>18.275126</td>\n",
       "      <td>8.006589</td>\n",
       "    </tr>\n",
       "    <tr>\n",
       "      <th>19</th>\n",
       "      <td>19</td>\n",
       "      <td>849526</td>\n",
       "      <td>17.390496</td>\n",
       "      <td>8.535656</td>\n",
       "    </tr>\n",
       "    <tr>\n",
       "      <th>20</th>\n",
       "      <td>20</td>\n",
       "      <td>758938</td>\n",
       "      <td>17.971291</td>\n",
       "      <td>8.282151</td>\n",
       "    </tr>\n",
       "    <tr>\n",
       "      <th>21</th>\n",
       "      <td>21</td>\n",
       "      <td>487602</td>\n",
       "      <td>17.179387</td>\n",
       "      <td>7.830230</td>\n",
       "    </tr>\n",
       "    <tr>\n",
       "      <th>22</th>\n",
       "      <td>22</td>\n",
       "      <td>417805</td>\n",
       "      <td>16.565318</td>\n",
       "      <td>7.037617</td>\n",
       "    </tr>\n",
       "    <tr>\n",
       "      <th>23</th>\n",
       "      <td>23</td>\n",
       "      <td>109615</td>\n",
       "      <td>16.261824</td>\n",
       "      <td>6.574413</td>\n",
       "    </tr>\n",
       "  </tbody>\n",
       "</table>\n",
       "</div>"
      ],
      "text/plain": [
       "    dep_hour  num_flights   taxi_out   taxi_in\n",
       "0          0        34142  15.247244  6.480646\n",
       "1          1        13322  13.601638  6.061842\n",
       "2          2         4356  11.986757  5.881094\n",
       "3          3         3420  11.959857  6.097484\n",
       "4          4         2220  11.264357  7.169193\n",
       "5          5       378527  15.388673  7.312468\n",
       "6          6      1153650  16.796728  8.257843\n",
       "7          7      1071851  17.778963  8.015422\n",
       "8          8      1051054  19.231258  8.656256\n",
       "9          9       935292  18.562103  8.134389\n",
       "10        10       975327  17.783981  7.895078\n",
       "11        11       988013  17.300845  7.242815\n",
       "12        12      1002688  16.920259  7.306480\n",
       "13        13       900303  16.619073  7.298282\n",
       "14        14       945396  17.110872  7.480047\n",
       "15        15       973433  17.673021  7.407902\n",
       "16        16       901854  17.395887  7.253744\n",
       "17        17      1049071  17.979918  7.878905\n",
       "18        18       920080  18.275126  8.006589\n",
       "19        19       849526  17.390496  8.535656\n",
       "20        20       758938  17.971291  8.282151\n",
       "21        21       487602  17.179387  7.830230\n",
       "22        22       417805  16.565318  7.037617\n",
       "23        23       109615  16.261824  6.574413"
      ]
     },
     "execution_count": 84,
     "metadata": {},
     "output_type": "execute_result"
    }
   ],
   "source": [
    "merged_data"
   ]
  },
  {
   "attachments": {},
   "cell_type": "markdown",
   "metadata": {},
   "source": [
    "The data shows the number of flights, average taxi-out times, and average taxi-in times for each hour of the day. From this information, we can make the following observations:\n",
    "\n",
    "1. Taxi-out times increase during peak hours (6 AM to 9 AM and 5 PM to 8 PM). This suggests that higher traffic could lead to longer taxi-out times, as more planes are waiting to depart.\n",
    "2. Taxi-in times are also generally higher during peak hours (6 AM to 9 AM and 5 PM to 8 PM). This indicates that more incoming flights could result in longer taxi-in times, as planes may need to wait for available gates or clearance to approach the airport.\n",
    "3. During off-peak hours (late night and early morning), both taxi-out and taxi-in times are shorter, likely because of reduced airport traffic.\n",
    "\n",
    "In conclusion, taxi times do change during the day, with higher traffic generally leading to longer taxi-out and taxi-in times. The data suggests that peak hours have a significant impact on taxi times, and off-peak hours are associated with shorter taxi times."
   ]
  },
  {
   "cell_type": "markdown",
   "metadata": {},
   "source": [
    "#### **Task 5**: What is the average percentage of delays that is already created before departure? (aka are arrival delays caused by departure delays?) Are airlines able to lower the delay during the flights?"
   ]
  },
  {
   "cell_type": "markdown",
   "metadata": {},
   "source": [
    "calculate the average departure delay and average arrival delay:"
   ]
  },
  {
   "cell_type": "code",
   "execution_count": 86,
   "metadata": {},
   "outputs": [],
   "source": [
    "avg_dep_delay = flights_df['dep_delay'].mean()\n",
    "avg_arr_delay = flights_df['arr_delay'].mean()\n"
   ]
  },
  {
   "attachments": {},
   "cell_type": "markdown",
   "metadata": {},
   "source": [
    "calculate the percentage of delays created before departure:"
   ]
  },
  {
   "cell_type": "code",
   "execution_count": 87,
   "metadata": {},
   "outputs": [],
   "source": [
    "percentage_delays_before_departure = (avg_dep_delay / avg_arr_delay) * 100\n"
   ]
  },
  {
   "attachments": {},
   "cell_type": "markdown",
   "metadata": {},
   "source": [
    "if airlines are able to lower the delay during the flights. "
   ]
  },
  {
   "cell_type": "code",
   "execution_count": 88,
   "metadata": {},
   "outputs": [
    {
     "name": "stdout",
     "output_type": "stream",
     "text": [
      "Airlines are able to lower the delay during the flights.\n"
     ]
    }
   ],
   "source": [
    "if avg_arr_delay < avg_dep_delay:\n",
    "    print(\"Airlines are able to lower the delay during the flights.\")\n",
    "else:\n",
    "    print(\"Airlines are not able to lower the delay during the flights.\")\n"
   ]
  },
  {
   "cell_type": "markdown",
   "metadata": {},
   "source": [
    "#### **Task 6**: How many states cover 50% of US air traffic? "
   ]
  },
  {
   "cell_type": "code",
   "execution_count": 97,
   "metadata": {},
   "outputs": [
    {
     "data": {
      "text/plain": [
       "Index(['fl_date', 'mkt_unique_carrier', 'branded_code_share', 'mkt_carrier',\n",
       "       'mkt_carrier_fl_num', 'op_unique_carrier', 'tail_num',\n",
       "       'op_carrier_fl_num', 'origin_airport_id', 'origin', 'origin_city_name',\n",
       "       'dest_airport_id', 'dest', 'dest_city_name', 'crs_dep_time', 'dep_time',\n",
       "       'dep_delay', 'taxi_out', 'wheels_off', 'wheels_on', 'taxi_in',\n",
       "       'crs_arr_time', 'arr_time', 'arr_delay', 'cancelled',\n",
       "       'cancellation_code', 'diverted', 'dup', 'crs_elapsed_time',\n",
       "       'actual_elapsed_time', 'air_time', 'flights', 'distance',\n",
       "       'carrier_delay', 'weather_delay', 'nas_delay', 'security_delay',\n",
       "       'late_aircraft_delay', 'first_dep_time', 'total_add_gtime',\n",
       "       'longest_add_gtime', 'no_name', 'year', 'month', 'dep_hour',\n",
       "       'arr_hour'],\n",
       "      dtype='object')"
      ]
     },
     "execution_count": 97,
     "metadata": {},
     "output_type": "execute_result"
    },
    {
     "data": {
      "text/plain": [
       "53"
      ]
     },
     "execution_count": 97,
     "metadata": {},
     "output_type": "execute_result"
    }
   ],
   "source": [
    "flights_df.columns\n",
    "# show the loast two characters in flights_df['origin_city_name']\n",
    "flights_df['origin_city_name'].str[-2:].nunique()"
   ]
  },
  {
   "cell_type": "code",
   "execution_count": 98,
   "metadata": {},
   "outputs": [
    {
     "name": "stdout",
     "output_type": "stream",
     "text": [
      "7 states cover 50% of US air traffic.\n"
     ]
    }
   ],
   "source": [
    "# Calculate the number of flights per state\n",
    "flights_per_state = flights_df.groupby(flights_df['origin_city_name'].str[-2:]).size().reset_index(name='num_flights')\n",
    "\n",
    "# Sort the states by the number of flights in descending order\n",
    "flights_per_state = flights_per_state.sort_values(by='num_flights', ascending=False)\n",
    "\n",
    "# Calculate the cumulative percentage of flights\n",
    "flights_per_state['cumulative_percentage'] = (flights_per_state['num_flights'].cumsum() / flights_per_state['num_flights'].sum()) * 100\n",
    "\n",
    "# Find the number of states covering 50% of the US air traffic\n",
    "num_states = len(flights_per_state[flights_per_state['cumulative_percentage'] <= 50])\n",
    "\n",
    "print(f\"{num_states} states cover 50% of US air traffic.\")\n"
   ]
  },
  {
   "cell_type": "code",
   "execution_count": 101,
   "metadata": {},
   "outputs": [
    {
     "data": {
      "text/html": [
       "<div>\n",
       "<style scoped>\n",
       "    .dataframe tbody tr th:only-of-type {\n",
       "        vertical-align: middle;\n",
       "    }\n",
       "\n",
       "    .dataframe tbody tr th {\n",
       "        vertical-align: top;\n",
       "    }\n",
       "\n",
       "    .dataframe thead th {\n",
       "        text-align: right;\n",
       "    }\n",
       "</style>\n",
       "<table border=\"1\" class=\"dataframe\">\n",
       "  <thead>\n",
       "    <tr style=\"text-align: right;\">\n",
       "      <th></th>\n",
       "      <th>origin_city_name</th>\n",
       "      <th>num_flights</th>\n",
       "      <th>cumulative_percentage</th>\n",
       "    </tr>\n",
       "  </thead>\n",
       "  <tbody>\n",
       "    <tr>\n",
       "      <th>4</th>\n",
       "      <td>CA</td>\n",
       "      <td>1738254</td>\n",
       "      <td>10.913550</td>\n",
       "    </tr>\n",
       "    <tr>\n",
       "      <th>44</th>\n",
       "      <td>TX</td>\n",
       "      <td>1572078</td>\n",
       "      <td>20.783771</td>\n",
       "    </tr>\n",
       "    <tr>\n",
       "      <th>8</th>\n",
       "      <td>FL</td>\n",
       "      <td>1151221</td>\n",
       "      <td>28.011660</td>\n",
       "    </tr>\n",
       "    <tr>\n",
       "      <th>13</th>\n",
       "      <td>IL</td>\n",
       "      <td>1008184</td>\n",
       "      <td>34.341498</td>\n",
       "    </tr>\n",
       "    <tr>\n",
       "      <th>9</th>\n",
       "      <td>GA</td>\n",
       "      <td>841057</td>\n",
       "      <td>39.622037</td>\n",
       "    </tr>\n",
       "    <tr>\n",
       "      <th>33</th>\n",
       "      <td>NY</td>\n",
       "      <td>827854</td>\n",
       "      <td>44.819681</td>\n",
       "    </tr>\n",
       "    <tr>\n",
       "      <th>26</th>\n",
       "      <td>NC</td>\n",
       "      <td>736077</td>\n",
       "      <td>49.441108</td>\n",
       "    </tr>\n",
       "    <tr>\n",
       "      <th>5</th>\n",
       "      <td>CO</td>\n",
       "      <td>622430</td>\n",
       "      <td>53.349006</td>\n",
       "    </tr>\n",
       "    <tr>\n",
       "      <th>37</th>\n",
       "      <td>PA</td>\n",
       "      <td>475258</td>\n",
       "      <td>56.332892</td>\n",
       "    </tr>\n",
       "    <tr>\n",
       "      <th>7</th>\n",
       "      <td>DC</td>\n",
       "      <td>472958</td>\n",
       "      <td>59.302338</td>\n",
       "    </tr>\n",
       "    <tr>\n",
       "      <th>49</th>\n",
       "      <td>WA</td>\n",
       "      <td>459928</td>\n",
       "      <td>62.189975</td>\n",
       "    </tr>\n",
       "    <tr>\n",
       "      <th>21</th>\n",
       "      <td>MI</td>\n",
       "      <td>449393</td>\n",
       "      <td>65.011469</td>\n",
       "    </tr>\n",
       "    <tr>\n",
       "      <th>3</th>\n",
       "      <td>AZ</td>\n",
       "      <td>413134</td>\n",
       "      <td>67.605312</td>\n",
       "    </tr>\n",
       "    <tr>\n",
       "      <th>32</th>\n",
       "      <td>NV</td>\n",
       "      <td>379296</td>\n",
       "      <td>69.986705</td>\n",
       "    </tr>\n",
       "    <tr>\n",
       "      <th>34</th>\n",
       "      <td>OH</td>\n",
       "      <td>362851</td>\n",
       "      <td>72.264849</td>\n",
       "    </tr>\n",
       "    <tr>\n",
       "      <th>22</th>\n",
       "      <td>MN</td>\n",
       "      <td>344462</td>\n",
       "      <td>74.427538</td>\n",
       "    </tr>\n",
       "    <tr>\n",
       "      <th>30</th>\n",
       "      <td>NJ</td>\n",
       "      <td>332563</td>\n",
       "      <td>76.515520</td>\n",
       "    </tr>\n",
       "    <tr>\n",
       "      <th>18</th>\n",
       "      <td>MA</td>\n",
       "      <td>308958</td>\n",
       "      <td>78.455299</td>\n",
       "    </tr>\n",
       "    <tr>\n",
       "      <th>23</th>\n",
       "      <td>MO</td>\n",
       "      <td>294386</td>\n",
       "      <td>80.303588</td>\n",
       "    </tr>\n",
       "    <tr>\n",
       "      <th>42</th>\n",
       "      <td>TN</td>\n",
       "      <td>279967</td>\n",
       "      <td>82.061349</td>\n",
       "    </tr>\n",
       "    <tr>\n",
       "      <th>45</th>\n",
       "      <td>UT</td>\n",
       "      <td>250456</td>\n",
       "      <td>83.633825</td>\n",
       "    </tr>\n",
       "    <tr>\n",
       "      <th>10</th>\n",
       "      <td>HI</td>\n",
       "      <td>242222</td>\n",
       "      <td>85.154605</td>\n",
       "    </tr>\n",
       "    <tr>\n",
       "      <th>36</th>\n",
       "      <td>OR</td>\n",
       "      <td>226538</td>\n",
       "      <td>86.576914</td>\n",
       "    </tr>\n",
       "    <tr>\n",
       "      <th>19</th>\n",
       "      <td>MD</td>\n",
       "      <td>217327</td>\n",
       "      <td>87.941392</td>\n",
       "    </tr>\n",
       "    <tr>\n",
       "      <th>17</th>\n",
       "      <td>LA</td>\n",
       "      <td>169508</td>\n",
       "      <td>89.005640</td>\n",
       "    </tr>\n",
       "    <tr>\n",
       "      <th>46</th>\n",
       "      <td>VA</td>\n",
       "      <td>155804</td>\n",
       "      <td>89.983849</td>\n",
       "    </tr>\n",
       "    <tr>\n",
       "      <th>14</th>\n",
       "      <td>IN</td>\n",
       "      <td>144852</td>\n",
       "      <td>90.893295</td>\n",
       "    </tr>\n",
       "    <tr>\n",
       "      <th>50</th>\n",
       "      <td>WI</td>\n",
       "      <td>143063</td>\n",
       "      <td>91.791510</td>\n",
       "    </tr>\n",
       "    <tr>\n",
       "      <th>40</th>\n",
       "      <td>SC</td>\n",
       "      <td>138952</td>\n",
       "      <td>92.663914</td>\n",
       "    </tr>\n",
       "    <tr>\n",
       "      <th>35</th>\n",
       "      <td>OK</td>\n",
       "      <td>91112</td>\n",
       "      <td>93.235957</td>\n",
       "    </tr>\n",
       "    <tr>\n",
       "      <th>1</th>\n",
       "      <td>AL</td>\n",
       "      <td>87952</td>\n",
       "      <td>93.788159</td>\n",
       "    </tr>\n",
       "    <tr>\n",
       "      <th>0</th>\n",
       "      <td>AK</td>\n",
       "      <td>82625</td>\n",
       "      <td>94.306917</td>\n",
       "    </tr>\n",
       "    <tr>\n",
       "      <th>16</th>\n",
       "      <td>KY</td>\n",
       "      <td>81876</td>\n",
       "      <td>94.820971</td>\n",
       "    </tr>\n",
       "    <tr>\n",
       "      <th>28</th>\n",
       "      <td>NE</td>\n",
       "      <td>67172</td>\n",
       "      <td>95.242708</td>\n",
       "    </tr>\n",
       "    <tr>\n",
       "      <th>12</th>\n",
       "      <td>ID</td>\n",
       "      <td>66659</td>\n",
       "      <td>95.661223</td>\n",
       "    </tr>\n",
       "    <tr>\n",
       "      <th>2</th>\n",
       "      <td>AR</td>\n",
       "      <td>65755</td>\n",
       "      <td>96.074063</td>\n",
       "    </tr>\n",
       "    <tr>\n",
       "      <th>31</th>\n",
       "      <td>NM</td>\n",
       "      <td>63794</td>\n",
       "      <td>96.474591</td>\n",
       "    </tr>\n",
       "    <tr>\n",
       "      <th>6</th>\n",
       "      <td>CT</td>\n",
       "      <td>62343</td>\n",
       "      <td>96.866009</td>\n",
       "    </tr>\n",
       "    <tr>\n",
       "      <th>11</th>\n",
       "      <td>IA</td>\n",
       "      <td>62224</td>\n",
       "      <td>97.256679</td>\n",
       "    </tr>\n",
       "    <tr>\n",
       "      <th>25</th>\n",
       "      <td>MT</td>\n",
       "      <td>60062</td>\n",
       "      <td>97.633776</td>\n",
       "    </tr>\n",
       "    <tr>\n",
       "      <th>38</th>\n",
       "      <td>PR</td>\n",
       "      <td>57200</td>\n",
       "      <td>97.992903</td>\n",
       "    </tr>\n",
       "    <tr>\n",
       "      <th>27</th>\n",
       "      <td>ND</td>\n",
       "      <td>43155</td>\n",
       "      <td>98.263850</td>\n",
       "    </tr>\n",
       "    <tr>\n",
       "      <th>20</th>\n",
       "      <td>ME</td>\n",
       "      <td>42224</td>\n",
       "      <td>98.528952</td>\n",
       "    </tr>\n",
       "    <tr>\n",
       "      <th>39</th>\n",
       "      <td>RI</td>\n",
       "      <td>40679</td>\n",
       "      <td>98.784353</td>\n",
       "    </tr>\n",
       "    <tr>\n",
       "      <th>15</th>\n",
       "      <td>KS</td>\n",
       "      <td>33866</td>\n",
       "      <td>98.996979</td>\n",
       "    </tr>\n",
       "    <tr>\n",
       "      <th>41</th>\n",
       "      <td>SD</td>\n",
       "      <td>31340</td>\n",
       "      <td>99.193746</td>\n",
       "    </tr>\n",
       "    <tr>\n",
       "      <th>24</th>\n",
       "      <td>MS</td>\n",
       "      <td>31116</td>\n",
       "      <td>99.389106</td>\n",
       "    </tr>\n",
       "    <tr>\n",
       "      <th>48</th>\n",
       "      <td>VT</td>\n",
       "      <td>23700</td>\n",
       "      <td>99.537906</td>\n",
       "    </tr>\n",
       "    <tr>\n",
       "      <th>29</th>\n",
       "      <td>NH</td>\n",
       "      <td>23488</td>\n",
       "      <td>99.685374</td>\n",
       "    </tr>\n",
       "    <tr>\n",
       "      <th>52</th>\n",
       "      <td>WY</td>\n",
       "      <td>20543</td>\n",
       "      <td>99.814352</td>\n",
       "    </tr>\n",
       "    <tr>\n",
       "      <th>51</th>\n",
       "      <td>WV</td>\n",
       "      <td>17172</td>\n",
       "      <td>99.922166</td>\n",
       "    </tr>\n",
       "    <tr>\n",
       "      <th>47</th>\n",
       "      <td>VI</td>\n",
       "      <td>8302</td>\n",
       "      <td>99.974290</td>\n",
       "    </tr>\n",
       "    <tr>\n",
       "      <th>43</th>\n",
       "      <td>TT</td>\n",
       "      <td>4095</td>\n",
       "      <td>100.000000</td>\n",
       "    </tr>\n",
       "  </tbody>\n",
       "</table>\n",
       "</div>"
      ],
      "text/plain": [
       "   origin_city_name  num_flights  cumulative_percentage\n",
       "4                CA      1738254              10.913550\n",
       "44               TX      1572078              20.783771\n",
       "8                FL      1151221              28.011660\n",
       "13               IL      1008184              34.341498\n",
       "9                GA       841057              39.622037\n",
       "33               NY       827854              44.819681\n",
       "26               NC       736077              49.441108\n",
       "5                CO       622430              53.349006\n",
       "37               PA       475258              56.332892\n",
       "7                DC       472958              59.302338\n",
       "49               WA       459928              62.189975\n",
       "21               MI       449393              65.011469\n",
       "3                AZ       413134              67.605312\n",
       "32               NV       379296              69.986705\n",
       "34               OH       362851              72.264849\n",
       "22               MN       344462              74.427538\n",
       "30               NJ       332563              76.515520\n",
       "18               MA       308958              78.455299\n",
       "23               MO       294386              80.303588\n",
       "42               TN       279967              82.061349\n",
       "45               UT       250456              83.633825\n",
       "10               HI       242222              85.154605\n",
       "36               OR       226538              86.576914\n",
       "19               MD       217327              87.941392\n",
       "17               LA       169508              89.005640\n",
       "46               VA       155804              89.983849\n",
       "14               IN       144852              90.893295\n",
       "50               WI       143063              91.791510\n",
       "40               SC       138952              92.663914\n",
       "35               OK        91112              93.235957\n",
       "1                AL        87952              93.788159\n",
       "0                AK        82625              94.306917\n",
       "16               KY        81876              94.820971\n",
       "28               NE        67172              95.242708\n",
       "12               ID        66659              95.661223\n",
       "2                AR        65755              96.074063\n",
       "31               NM        63794              96.474591\n",
       "6                CT        62343              96.866009\n",
       "11               IA        62224              97.256679\n",
       "25               MT        60062              97.633776\n",
       "38               PR        57200              97.992903\n",
       "27               ND        43155              98.263850\n",
       "20               ME        42224              98.528952\n",
       "39               RI        40679              98.784353\n",
       "15               KS        33866              98.996979\n",
       "41               SD        31340              99.193746\n",
       "24               MS        31116              99.389106\n",
       "48               VT        23700              99.537906\n",
       "29               NH        23488              99.685374\n",
       "52               WY        20543              99.814352\n",
       "51               WV        17172              99.922166\n",
       "47               VI         8302              99.974290\n",
       "43               TT         4095             100.000000"
      ]
     },
     "execution_count": 101,
     "metadata": {},
     "output_type": "execute_result"
    }
   ],
   "source": [
    "flights_per_state = flights_per_state.sort_values(by='num_flights', ascending=False)\n",
    "flights_per_state"
   ]
  },
  {
   "cell_type": "markdown",
   "metadata": {},
   "source": [
    "#### **Task 7**: Test the hypothesis whether planes fly faster when there is the departure delay? "
   ]
  },
  {
   "attachments": {},
   "cell_type": "markdown",
   "metadata": {},
   "source": [
    "* Calculate the flight speed for each flight in the dataset.\n",
    "* Divide the dataset into two groups: flights with departure delays and flights without departure delays.\n",
    "* Compare the average flight speeds between the two groups using a statistical hypothesis test, such as the independent two-sample t-test."
   ]
  },
  {
   "cell_type": "code",
   "execution_count": 102,
   "metadata": {},
   "outputs": [
    {
     "name": "stdout",
     "output_type": "stream",
     "text": [
      "Average flight speed with departure delay: 405.33 mph\n",
      "Average flight speed without departure delay: 395.63 mph\n",
      "T-statistic: 244.63750833213638, p-value: 0.0\n"
     ]
    }
   ],
   "source": [
    "import numpy as np\n",
    "from scipy.stats import ttest_ind\n",
    "\n",
    "# Calculate flight speed (miles per hour) for each flight\n",
    "flights_df['flight_speed'] = flights_df['distance'] / (flights_df['air_time'] / 60)\n",
    "\n",
    "# Divide the dataset into two groups: with departure delays and without departure delays\n",
    "flights_with_departure_delay = flights_df[flights_df['dep_delay'] > 0]\n",
    "flights_without_departure_delay = flights_df[flights_df['dep_delay'] <= 0]\n",
    "\n",
    "# Calculate average flight speeds for each group\n",
    "avg_speed_with_delay = np.mean(flights_with_departure_delay['flight_speed'])\n",
    "avg_speed_without_delay = np.mean(flights_without_departure_delay['flight_speed'])\n",
    "\n",
    "print(f'Average flight speed with departure delay: {avg_speed_with_delay:.2f} mph')\n",
    "print(f'Average flight speed without departure delay: {avg_speed_without_delay:.2f} mph')\n",
    "\n",
    "# Perform independent two-sample t-test\n",
    "t_stat, p_value = ttest_ind(flights_with_departure_delay['flight_speed'].dropna(), \n",
    "                            flights_without_departure_delay['flight_speed'].dropna())\n",
    "\n",
    "print(f'T-statistic: {t_stat}, p-value: {p_value}')\n"
   ]
  },
  {
   "attachments": {},
   "cell_type": "markdown",
   "metadata": {},
   "source": [
    "The p-value is less than the significance level (e.g., 0.05), and the null hypothesis is rejected. It can be concluded that there is a significant difference in flight speeds between flights with departure delays and those without. "
   ]
  },
  {
   "cell_type": "markdown",
   "metadata": {},
   "source": [
    "#### **Task 8**: When (which hour) do most 'LONG', 'SHORT', 'MEDIUM' haul flights take off?"
   ]
  },
  {
   "cell_type": "markdown",
   "metadata": {},
   "source": [
    "* Categorize flights into 'LONG', 'SHORT', and 'MEDIUM' haul based on the distance.\n",
    "* Extract the departure hour from the 'crs_dep_time' column.\n",
    "* Count the number of flights for each haul category and departure hour.\n",
    "* Find the departure hour with the highest number of flights for each haul category."
   ]
  },
  {
   "cell_type": "code",
   "execution_count": 103,
   "metadata": {},
   "outputs": [
    {
     "name": "stdout",
     "output_type": "stream",
     "text": [
      "   haul_category  dep_hour  num_flights\n",
      "6           LONG         8        64844\n",
      "29        MEDIUM         7       404015\n",
      "51         SHORT         6       719976\n"
     ]
    }
   ],
   "source": [
    "def categorize_flight(distance):\n",
    "    if distance <= 800:\n",
    "        return 'SHORT'\n",
    "    elif distance <= 2200:\n",
    "        return 'MEDIUM'\n",
    "    else:\n",
    "        return 'LONG'\n",
    "\n",
    "# Categorize flights into 'LONG', 'SHORT', and 'MEDIUM' haul based on the distance\n",
    "flights_df['haul_category'] = flights_df['distance'].apply(categorize_flight)\n",
    "\n",
    "# Extract the departure hour from 'crs_dep_time'\n",
    "flights_df['dep_hour'] = flights_df['crs_dep_time'].apply(lambda x: int(str(x).zfill(4)[:2]))\n",
    "\n",
    "# Count the number of flights for each haul category and departure hour\n",
    "flights_by_haul_and_hour = flights_df.groupby(['haul_category', 'dep_hour']).size().reset_index(name='num_flights')\n",
    "\n",
    "# Find the departure hour with the highest number of flights for each haul category\n",
    "max_flights_by_haul = flights_by_haul_and_hour.loc[flights_by_haul_and_hour.groupby('haul_category')['num_flights'].idxmax()]\n",
    "\n",
    "print(max_flights_by_haul)\n"
   ]
  },
  {
   "cell_type": "code",
   "execution_count": null,
   "metadata": {},
   "outputs": [],
   "source": []
  },
  {
   "cell_type": "markdown",
   "metadata": {},
   "source": [
    "#### **Task 9**: Find the top 10 the bussiest airports. Does the biggest number of flights mean that the biggest number of passengers went through the particular airport? How much traffic do these 10 airports cover?"
   ]
  },
  {
   "attachments": {},
   "cell_type": "markdown",
   "metadata": {},
   "source": [
    "##### Approach 1: Total flights count\n"
   ]
  },
  {
   "cell_type": "code",
   "execution_count": 105,
   "metadata": {},
   "outputs": [
    {
     "name": "stdout",
     "output_type": "stream",
     "text": [
      "    origin dest  total_flights\n",
      "257    ORD  ORD        1580382\n",
      "22     ATL  ATL        1571735\n",
      "95     DFW  DFW        1169290\n",
      "94     DEN  DEN        1104315\n",
      "74     CLT  CLT        1003049\n",
      "196    LAX  LAX        1001765\n",
      "321    SEA  SEA         758707\n",
      "323    SFO  SFO         715396\n",
      "272    PHX  PHX         710947\n",
      "169    IAH  IAH         708716\n"
     ]
    }
   ],
   "source": [
    "# Count the number of flights for each origin and destination airport\n",
    "origin_flights = flights_df.groupby('origin').size().reset_index(name='num_origin_flights')\n",
    "dest_flights = flights_df.groupby('dest').size().reset_index(name='num_dest_flights')\n",
    "\n",
    "# Combine the counts for origin and destination\n",
    "total_flights = origin_flights.merge(dest_flights, left_on='origin', right_on='dest')\n",
    "\n",
    "total_flights['total_flights'] = total_flights['num_origin_flights'] + total_flights['num_dest_flights']\n",
    "total_flights = total_flights.drop(columns=['num_origin_flights', 'num_dest_flights'])\n",
    "\n",
    "# Sort the airports by the total number of flights and select the top 10\n",
    "top_10_airports = total_flights.sort_values(by='total_flights', ascending=False).head(10)\n",
    "\n",
    "print(top_10_airports)\n"
   ]
  },
  {
   "cell_type": "code",
   "execution_count": 106,
   "metadata": {},
   "outputs": [
    {
     "name": "stdout",
     "output_type": "stream",
     "text": [
      "These 10 airports cover 32.41% of the total traffic.\n"
     ]
    }
   ],
   "source": [
    "total_traffic = total_flights['total_flights'].sum()\n",
    "top_10_traffic = top_10_airports['total_flights'].sum()\n",
    "percentage_covered = (top_10_traffic / total_traffic) * 100\n",
    "\n",
    "print(f'These 10 airports cover {percentage_covered:.2f}% of the total traffic.')\n"
   ]
  },
  {
   "attachments": {},
   "cell_type": "markdown",
   "metadata": {},
   "source": [
    "##### Approach 2: Total passengers count\n",
    "\n",
    "* Sum the number of passengers for each origin and destination airport.\n",
    "* Combine the counts for origin and destination to get the total number of passengers for each airport.\n",
    "* Sort the airports by the total number of passengers and select the top 10."
   ]
  },
  {
   "cell_type": "code",
   "execution_count": 107,
   "metadata": {},
   "outputs": [
    {
     "name": "stdout",
     "output_type": "stream",
     "text": [
      "     origin dest  total_passengers\n",
      "168     ATL  ATL       515264547.0\n",
      "1134    LAX  LAX       410933768.0\n",
      "1550    ORD  ORD       388608176.0\n",
      "528     DFW  DFW       328114204.0\n",
      "526     DEN  DEN       302145218.0\n",
      "1003    JFK  JFK       299081264.0\n",
      "1846    SFO  SFO       267290706.0\n",
      "1132    LAS  LAS       235131635.0\n",
      "1834    SEA  SEA       228232804.0\n",
      "419     CLT  CLT       226002708.0\n"
     ]
    }
   ],
   "source": [
    "# Sum the number of passengers for each origin and destination airport\n",
    "origin_passengers = passengers_df.groupby('origin')['passengers'].sum().reset_index(name='num_origin_passengers')\n",
    "dest_passengers = passengers_df.groupby('dest')['passengers'].sum().reset_index(name='num_dest_passengers')\n",
    "\n",
    "# Combine the counts for origin and destination\n",
    "total_passengers = origin_passengers.merge(dest_passengers, left_on='origin', right_on='dest')\n",
    "\n",
    "total_passengers['total_passengers'] = total_passengers['num_origin_passengers'] + total_passengers['num_dest_passengers']\n",
    "total_passengers = total_passengers.drop(columns=['num_origin_passengers', 'num_dest_passengers'])\n",
    "\n",
    "# Sort the airports by the total number of passengers and select the top 10\n",
    "top_10_airports_by_passengers = total_passengers.sort_values(by='total_passengers', ascending=False).head(10)\n",
    "\n",
    "print(top_10_airports_by_passengers)\n"
   ]
  },
  {
   "cell_type": "code",
   "execution_count": 118,
   "metadata": {},
   "outputs": [
    {
     "name": "stdout",
     "output_type": "stream",
     "text": [
      "Number of airports that are in the top 10 by traffic and in the top 10 by passengers:\n"
     ]
    },
    {
     "data": {
      "text/plain": [
       "True     8\n",
       "False    2\n",
       "Name: origin, dtype: int64"
      ]
     },
     "execution_count": 118,
     "metadata": {},
     "output_type": "execute_result"
    },
    {
     "name": "stdout",
     "output_type": "stream",
     "text": [
      "Common airports:\n"
     ]
    },
    {
     "data": {
      "text/plain": [
       "{'ATL', 'CLT', 'DEN', 'DFW', 'LAX', 'ORD', 'SEA', 'SFO'}"
      ]
     },
     "execution_count": 118,
     "metadata": {},
     "output_type": "execute_result"
    },
    {
     "name": "stdout",
     "output_type": "stream",
     "text": [
      "Common airports in the descending order of the total number of passengers:\n"
     ]
    },
    {
     "data": {
      "text/html": [
       "<div>\n",
       "<style scoped>\n",
       "    .dataframe tbody tr th:only-of-type {\n",
       "        vertical-align: middle;\n",
       "    }\n",
       "\n",
       "    .dataframe tbody tr th {\n",
       "        vertical-align: top;\n",
       "    }\n",
       "\n",
       "    .dataframe thead th {\n",
       "        text-align: right;\n",
       "    }\n",
       "</style>\n",
       "<table border=\"1\" class=\"dataframe\">\n",
       "  <thead>\n",
       "    <tr style=\"text-align: right;\">\n",
       "      <th></th>\n",
       "      <th>origin</th>\n",
       "      <th>dest</th>\n",
       "      <th>total_passengers</th>\n",
       "    </tr>\n",
       "  </thead>\n",
       "  <tbody>\n",
       "    <tr>\n",
       "      <th>168</th>\n",
       "      <td>ATL</td>\n",
       "      <td>ATL</td>\n",
       "      <td>515264547.0</td>\n",
       "    </tr>\n",
       "    <tr>\n",
       "      <th>1134</th>\n",
       "      <td>LAX</td>\n",
       "      <td>LAX</td>\n",
       "      <td>410933768.0</td>\n",
       "    </tr>\n",
       "    <tr>\n",
       "      <th>1550</th>\n",
       "      <td>ORD</td>\n",
       "      <td>ORD</td>\n",
       "      <td>388608176.0</td>\n",
       "    </tr>\n",
       "    <tr>\n",
       "      <th>528</th>\n",
       "      <td>DFW</td>\n",
       "      <td>DFW</td>\n",
       "      <td>328114204.0</td>\n",
       "    </tr>\n",
       "    <tr>\n",
       "      <th>526</th>\n",
       "      <td>DEN</td>\n",
       "      <td>DEN</td>\n",
       "      <td>302145218.0</td>\n",
       "    </tr>\n",
       "    <tr>\n",
       "      <th>1846</th>\n",
       "      <td>SFO</td>\n",
       "      <td>SFO</td>\n",
       "      <td>267290706.0</td>\n",
       "    </tr>\n",
       "    <tr>\n",
       "      <th>1834</th>\n",
       "      <td>SEA</td>\n",
       "      <td>SEA</td>\n",
       "      <td>228232804.0</td>\n",
       "    </tr>\n",
       "    <tr>\n",
       "      <th>419</th>\n",
       "      <td>CLT</td>\n",
       "      <td>CLT</td>\n",
       "      <td>226002708.0</td>\n",
       "    </tr>\n",
       "  </tbody>\n",
       "</table>\n",
       "</div>"
      ],
      "text/plain": [
       "     origin dest  total_passengers\n",
       "168     ATL  ATL       515264547.0\n",
       "1134    LAX  LAX       410933768.0\n",
       "1550    ORD  ORD       388608176.0\n",
       "528     DFW  DFW       328114204.0\n",
       "526     DEN  DEN       302145218.0\n",
       "1846    SFO  SFO       267290706.0\n",
       "1834    SEA  SEA       228232804.0\n",
       "419     CLT  CLT       226002708.0"
      ]
     },
     "execution_count": 118,
     "metadata": {},
     "output_type": "execute_result"
    },
    {
     "name": "stdout",
     "output_type": "stream",
     "text": [
      "Airports that are in the top 10 by traffic but not in the top 10 by passengers:\n"
     ]
    },
    {
     "data": {
      "text/html": [
       "<div>\n",
       "<style scoped>\n",
       "    .dataframe tbody tr th:only-of-type {\n",
       "        vertical-align: middle;\n",
       "    }\n",
       "\n",
       "    .dataframe tbody tr th {\n",
       "        vertical-align: top;\n",
       "    }\n",
       "\n",
       "    .dataframe thead th {\n",
       "        text-align: right;\n",
       "    }\n",
       "</style>\n",
       "<table border=\"1\" class=\"dataframe\">\n",
       "  <thead>\n",
       "    <tr style=\"text-align: right;\">\n",
       "      <th></th>\n",
       "      <th>origin</th>\n",
       "      <th>dest</th>\n",
       "      <th>total_flights</th>\n",
       "    </tr>\n",
       "  </thead>\n",
       "  <tbody>\n",
       "    <tr>\n",
       "      <th>272</th>\n",
       "      <td>PHX</td>\n",
       "      <td>PHX</td>\n",
       "      <td>710947</td>\n",
       "    </tr>\n",
       "    <tr>\n",
       "      <th>169</th>\n",
       "      <td>IAH</td>\n",
       "      <td>IAH</td>\n",
       "      <td>708716</td>\n",
       "    </tr>\n",
       "  </tbody>\n",
       "</table>\n",
       "</div>"
      ],
      "text/plain": [
       "    origin dest  total_flights\n",
       "272    PHX  PHX         710947\n",
       "169    IAH  IAH         708716"
      ]
     },
     "execution_count": 118,
     "metadata": {},
     "output_type": "execute_result"
    },
    {
     "name": "stdout",
     "output_type": "stream",
     "text": [
      "Airports that are in the top 10 by passengers but not in the top 10 by traffic:\n"
     ]
    },
    {
     "data": {
      "text/html": [
       "<div>\n",
       "<style scoped>\n",
       "    .dataframe tbody tr th:only-of-type {\n",
       "        vertical-align: middle;\n",
       "    }\n",
       "\n",
       "    .dataframe tbody tr th {\n",
       "        vertical-align: top;\n",
       "    }\n",
       "\n",
       "    .dataframe thead th {\n",
       "        text-align: right;\n",
       "    }\n",
       "</style>\n",
       "<table border=\"1\" class=\"dataframe\">\n",
       "  <thead>\n",
       "    <tr style=\"text-align: right;\">\n",
       "      <th></th>\n",
       "      <th>origin</th>\n",
       "      <th>dest</th>\n",
       "      <th>total_passengers</th>\n",
       "    </tr>\n",
       "  </thead>\n",
       "  <tbody>\n",
       "    <tr>\n",
       "      <th>1003</th>\n",
       "      <td>JFK</td>\n",
       "      <td>JFK</td>\n",
       "      <td>299081264.0</td>\n",
       "    </tr>\n",
       "    <tr>\n",
       "      <th>1132</th>\n",
       "      <td>LAS</td>\n",
       "      <td>LAS</td>\n",
       "      <td>235131635.0</td>\n",
       "    </tr>\n",
       "  </tbody>\n",
       "</table>\n",
       "</div>"
      ],
      "text/plain": [
       "     origin dest  total_passengers\n",
       "1003    JFK  JFK       299081264.0\n",
       "1132    LAS  LAS       235131635.0"
      ]
     },
     "execution_count": 118,
     "metadata": {},
     "output_type": "execute_result"
    }
   ],
   "source": [
    "# check the origin column of the top_10_airports_by_passengers and top_10_airports DataFrames, to see which ones are the same, and list them:\n",
    "print(\"Number of airports that are in the top 10 by traffic and in the top 10 by passengers:\")\n",
    "top_10_airports_by_passengers['origin'].isin(top_10_airports['origin']).value_counts()\n",
    "\n",
    "# use set to find the common airports\n",
    "common_airports = set(top_10_airports_by_passengers['origin']).intersection(set(top_10_airports['origin']))\n",
    "print(\"Common airports:\")\n",
    "common_airports\n",
    "\n",
    "\n",
    "# print the common airports in the descending order of the total number of passengers\n",
    "print(\"Common airports in the descending order of the total number of passengers:\")\n",
    "top_10_airports_by_passengers[top_10_airports_by_passengers['origin'].isin(common_airports)].sort_values(by='total_passengers', ascending=False)\n",
    "\n",
    "# print the two airports that are in the top 10 by traffic but not in the top 10 by passengers\n",
    "print(\"Airports that are in the top 10 by traffic but not in the top 10 by passengers:\")\n",
    "top_10_airports[~top_10_airports['origin'].isin(common_airports)]\n",
    "\n",
    "# print the two airports that are in the top 10 by passengers but not in the top 10 by traffic\n",
    "print(\"Airports that are in the top 10 by passengers but not in the top 10 by traffic:\")\n",
    "top_10_airports_by_passengers[~top_10_airports_by_passengers['origin'].isin(common_airports)]"
   ]
  },
  {
   "cell_type": "code",
   "execution_count": null,
   "metadata": {},
   "outputs": [],
   "source": []
  },
  {
   "cell_type": "markdown",
   "metadata": {},
   "source": [
    "#### **Task 10**: Do bigger delays lead to bigger fuel comsumption per passenger? \n",
    "We need to do four things to answer this as accurate as possible:\n",
    "- Find out average monthly delay per air carrier (monthly delay is sum of all delays in 1 month)\n",
    "- Find out distance covered monthly by different air carriers\n",
    "- Find out number of passengers that were carried by different air carriers\n",
    "- Find out total fuel comsumption per air carrier.\n",
    "\n",
    "Use this information to get the average fuel comsumption per passenger per km. Is this higher for the airlines with bigger average delays?"
   ]
  },
  {
   "cell_type": "code",
   "execution_count": 150,
   "metadata": {},
   "outputs": [
    {
     "data": {
      "text/html": [
       "<div>\n",
       "<style scoped>\n",
       "    .dataframe tbody tr th:only-of-type {\n",
       "        vertical-align: middle;\n",
       "    }\n",
       "\n",
       "    .dataframe tbody tr th {\n",
       "        vertical-align: top;\n",
       "    }\n",
       "\n",
       "    .dataframe thead th {\n",
       "        text-align: right;\n",
       "    }\n",
       "</style>\n",
       "<table border=\"1\" class=\"dataframe\">\n",
       "  <thead>\n",
       "    <tr style=\"text-align: right;\">\n",
       "      <th></th>\n",
       "      <th>mkt_unique_carrier</th>\n",
       "      <th>avg_monthly_delay</th>\n",
       "      <th>monthly_distance</th>\n",
       "      <th>monthly_passengers</th>\n",
       "      <th>avg_monthly_fuel</th>\n",
       "      <th>avg_fuel_per_passenger_km</th>\n",
       "    </tr>\n",
       "  </thead>\n",
       "  <tbody>\n",
       "    <tr>\n",
       "      <th>2</th>\n",
       "      <td>B6</td>\n",
       "      <td>11.266252</td>\n",
       "      <td>5.467669e+07</td>\n",
       "      <td>1.657267e+07</td>\n",
       "      <td>3.139216e+08</td>\n",
       "      <td>3.464388e-07</td>\n",
       "    </tr>\n",
       "    <tr>\n",
       "      <th>4</th>\n",
       "      <td>F9</td>\n",
       "      <td>11.109340</td>\n",
       "      <td>2.198570e+07</td>\n",
       "      <td>7.313943e+06</td>\n",
       "      <td>9.377454e+07</td>\n",
       "      <td>5.831673e-07</td>\n",
       "    </tr>\n",
       "    <tr>\n",
       "      <th>8</th>\n",
       "      <td>UA</td>\n",
       "      <td>9.046646</td>\n",
       "      <td>2.027373e+08</td>\n",
       "      <td>4.449056e+07</td>\n",
       "      <td>1.329742e+09</td>\n",
       "      <td>1.474232e-07</td>\n",
       "    </tr>\n",
       "    <tr>\n",
       "      <th>5</th>\n",
       "      <td>G4</td>\n",
       "      <td>8.497450</td>\n",
       "      <td>1.469276e+07</td>\n",
       "      <td>5.177141e+06</td>\n",
       "      <td>7.081350e+07</td>\n",
       "      <td>9.309423e-07</td>\n",
       "    </tr>\n",
       "    <tr>\n",
       "      <th>0</th>\n",
       "      <td>AA</td>\n",
       "      <td>6.362003</td>\n",
       "      <td>2.396124e+08</td>\n",
       "      <td>5.960032e+07</td>\n",
       "      <td>1.386241e+09</td>\n",
       "      <td>9.706901e-08</td>\n",
       "    </tr>\n",
       "    <tr>\n",
       "      <th>7</th>\n",
       "      <td>NK</td>\n",
       "      <td>4.938210</td>\n",
       "      <td>3.199132e+07</td>\n",
       "      <td>1.062746e+07</td>\n",
       "      <td>1.386090e+08</td>\n",
       "      <td>4.076895e-07</td>\n",
       "    </tr>\n",
       "    <tr>\n",
       "      <th>10</th>\n",
       "      <td>WN</td>\n",
       "      <td>3.518818</td>\n",
       "      <td>1.685647e+08</td>\n",
       "      <td>6.695833e+07</td>\n",
       "      <td>7.999200e+08</td>\n",
       "      <td>7.087209e-08</td>\n",
       "    </tr>\n",
       "    <tr>\n",
       "      <th>3</th>\n",
       "      <td>DL</td>\n",
       "      <td>2.459706</td>\n",
       "      <td>2.029603e+08</td>\n",
       "      <td>6.187595e+07</td>\n",
       "      <td>1.379188e+09</td>\n",
       "      <td>1.098222e-07</td>\n",
       "    </tr>\n",
       "    <tr>\n",
       "      <th>9</th>\n",
       "      <td>VX</td>\n",
       "      <td>1.474412</td>\n",
       "      <td>8.621435e+06</td>\n",
       "      <td>2.134765e+06</td>\n",
       "      <td>4.748528e+07</td>\n",
       "      <td>2.580057e-06</td>\n",
       "    </tr>\n",
       "    <tr>\n",
       "      <th>6</th>\n",
       "      <td>HA</td>\n",
       "      <td>1.302327</td>\n",
       "      <td>1.007836e+07</td>\n",
       "      <td>4.648382e+06</td>\n",
       "      <td>1.011299e+08</td>\n",
       "      <td>2.158679e-06</td>\n",
       "    </tr>\n",
       "    <tr>\n",
       "      <th>1</th>\n",
       "      <td>AS</td>\n",
       "      <td>0.762472</td>\n",
       "      <td>6.986782e+07</td>\n",
       "      <td>1.210084e+07</td>\n",
       "      <td>2.232046e+08</td>\n",
       "      <td>2.640040e-07</td>\n",
       "    </tr>\n",
       "  </tbody>\n",
       "</table>\n",
       "</div>"
      ],
      "text/plain": [
       "   mkt_unique_carrier  avg_monthly_delay  monthly_distance  \\\n",
       "2                  B6          11.266252      5.467669e+07   \n",
       "4                  F9          11.109340      2.198570e+07   \n",
       "8                  UA           9.046646      2.027373e+08   \n",
       "5                  G4           8.497450      1.469276e+07   \n",
       "0                  AA           6.362003      2.396124e+08   \n",
       "7                  NK           4.938210      3.199132e+07   \n",
       "10                 WN           3.518818      1.685647e+08   \n",
       "3                  DL           2.459706      2.029603e+08   \n",
       "9                  VX           1.474412      8.621435e+06   \n",
       "6                  HA           1.302327      1.007836e+07   \n",
       "1                  AS           0.762472      6.986782e+07   \n",
       "\n",
       "    monthly_passengers  avg_monthly_fuel  avg_fuel_per_passenger_km  \n",
       "2         1.657267e+07      3.139216e+08               3.464388e-07  \n",
       "4         7.313943e+06      9.377454e+07               5.831673e-07  \n",
       "8         4.449056e+07      1.329742e+09               1.474232e-07  \n",
       "5         5.177141e+06      7.081350e+07               9.309423e-07  \n",
       "0         5.960032e+07      1.386241e+09               9.706901e-08  \n",
       "7         1.062746e+07      1.386090e+08               4.076895e-07  \n",
       "10        6.695833e+07      7.999200e+08               7.087209e-08  \n",
       "3         6.187595e+07      1.379188e+09               1.098222e-07  \n",
       "9         2.134765e+06      4.748528e+07               2.580057e-06  \n",
       "6         4.648382e+06      1.011299e+08               2.158679e-06  \n",
       "1         1.210084e+07      2.232046e+08               2.640040e-07  "
      ]
     },
     "execution_count": 150,
     "metadata": {},
     "output_type": "execute_result"
    }
   ],
   "source": [
    "import pandas as pd\n",
    "\n",
    "# Calculate average monthly delay per air carrier\n",
    "avg_monthly_delay_per_carrier = flights_df.groupby(['mkt_unique_carrier', 'month'])['arr_delay'].mean().reset_index(name='avg_monthly_delay')\n",
    "avg_monthly_delay_per_carrier = avg_monthly_delay_per_carrier.groupby('mkt_unique_carrier')['avg_monthly_delay'].mean().reset_index()\n",
    "\n",
    "# Calculate distance covered monthly by different air carriers\n",
    "avg_monthly_distance_per_carrier = flights_df.groupby(['mkt_unique_carrier', 'month'])['distance'].sum().reset_index(name='monthly_distance')\n",
    "avg_monthly_distance_per_carrier = avg_monthly_distance_per_carrier.groupby('mkt_unique_carrier')['monthly_distance'].mean().reset_index()\n",
    "\n",
    "# Calculate number of passengers that were carried by different air carriers\n",
    "passengers_df['mkt_unique_carrier'] = passengers_df['unique_carrier']  # create a new column called mkt_unique_carrier, you may need to adjust this according to your dataset\n",
    "monthly_passengers_per_carrier = passengers_df.groupby(['mkt_unique_carrier', 'month'])['passengers'].sum().reset_index(name='monthly_passengers')\n",
    "avg_monthly_passengers_per_carrier = monthly_passengers_per_carrier.groupby('mkt_unique_carrier')['monthly_passengers'].mean().reset_index()\n",
    "\n",
    "# Calculate average monthly total fuel consumption per air carrier\n",
    "fuel_comsumption_df['mkt_unique_carrier'] = fuel_comsumption_df['unique_carrier']  # create a new column called mkt_unique_carrier, you may need to adjust this according to your dataset\n",
    "monthly_fuel_per_carrier = fuel_comsumption_df.groupby(['mkt_unique_carrier', 'month'])['total_gallons'].sum().reset_index(name='monthly_fuel')\n",
    "avg_monthly_fuel_per_carrier = monthly_fuel_per_carrier.groupby('mkt_unique_carrier')['monthly_fuel'].mean().reset_index(name='avg_monthly_fuel')\n",
    "\n",
    "# Merge the calculated dataframes\n",
    "merged_data = (\n",
    "    avg_monthly_delay_per_carrier.merge(avg_monthly_distance_per_carrier, on='mkt_unique_carrier')\n",
    "    .merge(avg_monthly_passengers_per_carrier, on='mkt_unique_carrier')\n",
    "    .merge(avg_monthly_fuel_per_carrier, on='mkt_unique_carrier')\n",
    ")\n",
    "\n",
    "# Calculate average fuel consumption per passenger per km\n",
    "merged_data['avg_fuel_per_passenger_km'] = (merged_data['avg_monthly_fuel'] / merged_data['monthly_passengers']) / merged_data['monthly_distance']\n",
    "\n",
    "# Sort data by average delay\n",
    "sorted_data = merged_data.sort_values(by='avg_monthly_delay', ascending=False)\n",
    "\n",
    "# Analyze whether airlines with bigger average delays have higher fuel consumption per passenger per km\n",
    "sorted_data\n"
   ]
  },
  {
   "cell_type": "code",
   "execution_count": 169,
   "metadata": {},
   "outputs": [
    {
     "data": {
      "text/plain": [
       "<seaborn.axisgrid.PairGrid at 0x7f7809f6b5b0>"
      ]
     },
     "execution_count": 169,
     "metadata": {},
     "output_type": "execute_result"
    },
    {
     "data": {
      "text/plain": [
       "Text(0.5, 1.05, 'Average monthly delay vs average fuel consumption per passenger per km')"
      ]
     },
     "execution_count": 169,
     "metadata": {},
     "output_type": "execute_result"
    },
    {
     "data": {
      "image/png": "[encoded data removed]",
      "text/plain": [
       "<Figure size 471.55x360 with 6 Axes>"
      ]
     },
     "metadata": {},
     "output_type": "display_data"
    }
   ],
   "source": [
    "import seaborn as sns\n",
    "import matplotlib.pyplot as plt\n",
    "\n",
    "sns.set_context(\"talk\")\n",
    "\n",
    "# Set the style for the plot\n",
    "sns.set(style=\"ticks\")\n",
    "\n",
    "# pairplot\n",
    "sns.pairplot(sorted_data, hue='mkt_unique_carrier', vars=['avg_monthly_delay', 'avg_fuel_per_passenger_km'])\n",
    "\n",
    "# give a title to the plot, make it at the top of the plot\n",
    "plt.suptitle('Average monthly delay vs average fuel consumption per passenger per km', fontsize=16, y=1.05)\n",
    "\n",
    "# save as png\n",
    "plt.savefig(IMAGES_GENERATED_PATH + 'EDA_10_pairplot.png', dpi=300, bbox_inches='tight', pad_inches=0.1, facecolor='w', edgecolor='w')\n",
    "\n",
    "\n",
    "# Show the plot\n",
    "plt.show()\n"
   ]
  },
  {
   "attachments": {},
   "cell_type": "markdown",
   "metadata": {},
   "source": [
    "## Appendix"
   ]
  },
  {
   "attachments": {},
   "cell_type": "markdown",
   "metadata": {},
   "source": [
    "### Prepare data for OpenWeatherMap API"
   ]
  },
  {
   "cell_type": "code",
   "execution_count": 27,
   "metadata": {},
   "outputs": [
    {
     "name": "stdout",
     "output_type": "stream",
     "text": [
      "flights_df['fl_date'] min and max value:\n",
      "2018-01-01\n",
      "2019-12-31\n"
     ]
    }
   ],
   "source": [
    "# flights_df['fl_date min and max value'] 's min and max value\n",
    "print(\"flights_df['fl_date'] min and max value:\")\n",
    "print(flights_df['fl_date'].min())\n",
    "print(flights_df['fl_date'].max())"
   ]
  },
  {
   "cell_type": "code",
   "execution_count": 29,
   "metadata": {},
   "outputs": [
    {
     "data": {
      "text/plain": [
       "Timestamp('2018-01-01 00:00:00')"
      ]
     },
     "execution_count": 29,
     "metadata": {},
     "output_type": "execute_result"
    },
    {
     "data": {
      "text/plain": [
       "Timestamp('2019-12-31 00:00:00')"
      ]
     },
     "execution_count": 29,
     "metadata": {},
     "output_type": "execute_result"
    }
   ],
   "source": [
    "# create a df called minmaxdate = \n",
    "# convert flights_df['fl_date min and max value'] to date type from string like 2018-01-01, and\n",
    "# convert calculate the min and max of the minmaxdate\n",
    "\n",
    "minmaxdate = pd.to_datetime(flights_df['fl_date'])\n",
    "minmaxdate.min()\n",
    "minmaxdate.max()\n",
    "\n"
   ]
  },
  {
   "cell_type": "code",
   "execution_count": 30,
   "metadata": {},
   "outputs": [
    {
     "data": {
      "text/plain": [
       "Index(['airport_code', 'airport_name', 'airport_lat', 'airport_long'], dtype='object')"
      ]
     },
     "execution_count": 30,
     "metadata": {},
     "output_type": "execute_result"
    }
   ],
   "source": [
    "airport_info.columns"
   ]
  },
  {
   "cell_type": "code",
   "execution_count": 31,
   "metadata": {},
   "outputs": [
    {
     "data": {
      "text/html": [
       "<div>\n",
       "<style scoped>\n",
       "    .dataframe tbody tr th:only-of-type {\n",
       "        vertical-align: middle;\n",
       "    }\n",
       "\n",
       "    .dataframe tbody tr th {\n",
       "        vertical-align: top;\n",
       "    }\n",
       "\n",
       "    .dataframe thead th {\n",
       "        text-align: right;\n",
       "    }\n",
       "</style>\n",
       "<table border=\"1\" class=\"dataframe\">\n",
       "  <thead>\n",
       "    <tr style=\"text-align: right;\">\n",
       "      <th></th>\n",
       "      <th>airport_code</th>\n",
       "      <th>airport_name</th>\n",
       "      <th>airport_lat</th>\n",
       "      <th>airport_long</th>\n",
       "    </tr>\n",
       "  </thead>\n",
       "  <tbody>\n",
       "    <tr>\n",
       "      <th>0</th>\n",
       "      <td>SLC</td>\n",
       "      <td>Salt Lake City, UT</td>\n",
       "      <td>40.789940</td>\n",
       "      <td>-111.979071</td>\n",
       "    </tr>\n",
       "    <tr>\n",
       "      <th>1</th>\n",
       "      <td>DTW</td>\n",
       "      <td>Detroit, MI</td>\n",
       "      <td>42.216249</td>\n",
       "      <td>-83.355364</td>\n",
       "    </tr>\n",
       "    <tr>\n",
       "      <th>2</th>\n",
       "      <td>ATL</td>\n",
       "      <td>Atlanta, GA</td>\n",
       "      <td>33.640728</td>\n",
       "      <td>-84.427700</td>\n",
       "    </tr>\n",
       "    <tr>\n",
       "      <th>3</th>\n",
       "      <td>CLT</td>\n",
       "      <td>Charlotte, NC</td>\n",
       "      <td>35.214403</td>\n",
       "      <td>-80.947315</td>\n",
       "    </tr>\n",
       "    <tr>\n",
       "      <th>4</th>\n",
       "      <td>MSP</td>\n",
       "      <td>Minneapolis, MN</td>\n",
       "      <td>44.884755</td>\n",
       "      <td>-93.222285</td>\n",
       "    </tr>\n",
       "  </tbody>\n",
       "</table>\n",
       "</div>"
      ],
      "text/plain": [
       "  airport_code        airport_name  airport_lat  airport_long\n",
       "0          SLC  Salt Lake City, UT    40.789940   -111.979071\n",
       "1          DTW         Detroit, MI    42.216249    -83.355364\n",
       "2          ATL         Atlanta, GA    33.640728    -84.427700\n",
       "3          CLT       Charlotte, NC    35.214403    -80.947315\n",
       "4          MSP     Minneapolis, MN    44.884755    -93.222285"
      ]
     },
     "execution_count": 31,
     "metadata": {},
     "output_type": "execute_result"
    }
   ],
   "source": [
    "airport_info.head()\n"
   ]
  },
  {
   "cell_type": "code",
   "execution_count": 36,
   "metadata": {},
   "outputs": [],
   "source": [
    "# save the airport_info to csv file\n",
    "\n",
    "# based on the following instructions:\n",
    "# The only format that is currently accepted for importing is CSV.\n",
    "# Make sure your CSV file is using the semi-colon delimiter, not a comma.\n",
    "# Your CSV file needs to be encoded as UTF-8 or Unicode.\n",
    "# The file should contain columns in the following order: location (string), latitude (float), longitude (float).\n",
    "# Coordinates will be rounded to the 6th decimal place.\n",
    "# Please refer to the example below. Download sample file\n",
    "\n",
    "# save the airport_info to csv file, only the 3 columns: 'airport_code', 'airport_lat', 'airport_long'\n",
    "\n",
    "# avoid the last empty line\n",
    "airport_info.to_csv(IMAGES_GENERATED_PATH + 'airport_info.csv', index=False, header=False, columns=['airport_code', 'airport_lat', 'airport_long'], sep=';')"
   ]
  },
  {
   "cell_type": "code",
   "execution_count": 35,
   "metadata": {},
   "outputs": [
    {
     "data": {
      "text/plain": [
       "(376, 4)"
      ]
     },
     "execution_count": 35,
     "metadata": {},
     "output_type": "execute_result"
    }
   ],
   "source": [
    "airport_info.shape\n"
   ]
  }
 ],
 "metadata": {
  "kernelspec": {
   "display_name": "Python 3",
   "language": "python",
   "name": "python3"
  },
  "language_info": {
   "codemirror_mode": {
    "name": "ipython",
    "version": 3
   },
   "file_extension": ".py",
   "mimetype": "text/x-python",
   "name": "python",
   "nbconvert_exporter": "python",
   "pygments_lexer": "ipython3",
   "version": "3.10.4"
  },
  "toc": {
   "base_numbering": 1,
   "nav_menu": {},
   "number_sections": true,
   "sideBar": true,
   "skip_h1_title": false,
   "title_cell": "Table of Contents",
   "title_sidebar": "Contents",
   "toc_cell": false,
   "toc_position": {},
   "toc_section_display": true,
   "toc_window_display": false
  },
  "varInspector": {
   "cols": {
    "lenName": 16,
    "lenType": 16,
    "lenVar": 40
   },
   "kernels_config": {
    "python": {
     "delete_cmd_postfix": "",
     "delete_cmd_prefix": "del ",
     "library": "var_list.py",
     "varRefreshCmd": "print(var_dic_list())"
    },
    "r": {
     "delete_cmd_postfix": ") ",
     "delete_cmd_prefix": "rm(",
     "library": "var_list.r",
     "varRefreshCmd": "cat(var_dic_list()) "
    }
   },
   "types_to_exclude": [
    "module",
    "function",
    "builtin_function_or_method",
    "instance",
    "_Feature"
   ],
   "window_display": false
  }
 },
 "nbformat": 4,
 "nbformat_minor": 4
}
